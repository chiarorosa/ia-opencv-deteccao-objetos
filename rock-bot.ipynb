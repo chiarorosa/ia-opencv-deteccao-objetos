{
 "cells": [
  {
   "cell_type": "code",
   "execution_count": null,
   "metadata": {},
   "outputs": [],
   "source": [
    "# https://www.agame.com/game/rock-hero\n",
    "# Posição do Mouse: (86, 621), RGB: (215, 100, 239) rosa\n",
    "# Posição do Mouse: (271, 620), RGB: (125, 219, 44) verda\n",
    "# Posição do Mouse: (460, 618), RGB: (71, 181, 231) azul\n",
    "\n",
    "\n",
    "# Posição do Mouse: (70, 138), RGB: (20, 178, 218)\n",
    "# Posição do Mouse: (575, 140), RGB: (20, 178, 218)\n",
    "# Posição do Mouse: (113, 600), RGB: (14, 156, 211)\n",
    "# Posição do Mouse: (540, 661), RGB: (15, 159, 211)\n",
    "# 575-70 = 505\n",
    "# 661 - 138 = 523"
   ]
  },
  {
   "cell_type": "code",
   "execution_count": 116,
   "metadata": {},
   "outputs": [],
   "source": [
    "from pyautogui import *\n",
    "import pyautogui\n",
    "import time\n",
    "import keyboard\n",
    "#import random\n",
    "import win32api, win32con"
   ]
  },
  {
   "cell_type": "code",
   "execution_count": 161,
   "metadata": {},
   "outputs": [
    {
     "ename": "KeyboardInterrupt",
     "evalue": "",
     "output_type": "error",
     "traceback": [
      "\u001b[1;31m---------------------------------------------------------------------------\u001b[0m",
      "\u001b[1;31mKeyboardInterrupt\u001b[0m                         Traceback (most recent call last)",
      "\u001b[1;32md:\\documentos\\faculdade_senac\\semestre5\\inteligencia_artificial\\ia_opencv_deteccao_objetos\\ia-opencv-deteccao-objetos\\rock-bot.ipynb Cell 3\u001b[0m line \u001b[0;36m9\n\u001b[0;32m      <a href='vscode-notebook-cell:/d%3A/documentos/faculdade_senac/semestre5/inteligencia_artificial/ia_opencv_deteccao_objetos/ia-opencv-deteccao-objetos/rock-bot.ipynb#W2sZmlsZQ%3D%3D?line=5'>6</a>\u001b[0m     win32api\u001b[39m.\u001b[39mmouse_event(win32con\u001b[39m.\u001b[39mMOUSEEVENTF_LEFTDOWN,\u001b[39m0\u001b[39m,\u001b[39m0\u001b[39m)\n\u001b[0;32m      <a href='vscode-notebook-cell:/d%3A/documentos/faculdade_senac/semestre5/inteligencia_artificial/ia_opencv_deteccao_objetos/ia-opencv-deteccao-objetos/rock-bot.ipynb#W2sZmlsZQ%3D%3D?line=6'>7</a>\u001b[0m     win32api\u001b[39m.\u001b[39mmouse_event(win32con\u001b[39m.\u001b[39mMOUSEEVENTF_LEFTUP,\u001b[39m0\u001b[39m,\u001b[39m0\u001b[39m)\n\u001b[1;32m----> <a href='vscode-notebook-cell:/d%3A/documentos/faculdade_senac/semestre5/inteligencia_artificial/ia_opencv_deteccao_objetos/ia-opencv-deteccao-objetos/rock-bot.ipynb#W2sZmlsZQ%3D%3D?line=8'>9</a>\u001b[0m \u001b[39mwhile\u001b[39;00m \u001b[39mnot\u001b[39;00m keyboard\u001b[39m.\u001b[39;49mis_pressed(\u001b[39m'\u001b[39;49m\u001b[39mq\u001b[39;49m\u001b[39m'\u001b[39;49m):\n\u001b[0;32m     <a href='vscode-notebook-cell:/d%3A/documentos/faculdade_senac/semestre5/inteligencia_artificial/ia_opencv_deteccao_objetos/ia-opencv-deteccao-objetos/rock-bot.ipynb#W2sZmlsZQ%3D%3D?line=9'>10</a>\u001b[0m     flag \u001b[39m=\u001b[39m \u001b[39m0\u001b[39m\n\u001b[0;32m     <a href='vscode-notebook-cell:/d%3A/documentos/faculdade_senac/semestre5/inteligencia_artificial/ia_opencv_deteccao_objetos/ia-opencv-deteccao-objetos/rock-bot.ipynb#W2sZmlsZQ%3D%3D?line=10'>11</a>\u001b[0m     pic \u001b[39m=\u001b[39m pyautogui\u001b[39m.\u001b[39mscreenshot(region\u001b[39m=\u001b[39m(\u001b[39m20\u001b[39m, \u001b[39m138\u001b[39m, \u001b[39m528\u001b[39m, \u001b[39m439\u001b[39m))\n",
      "File \u001b[1;32mc:\\Users\\sandr\\anaconda3\\Lib\\site-packages\\keyboard\\__init__.py:410\u001b[0m, in \u001b[0;36mis_pressed\u001b[1;34m(hotkey)\u001b[0m\n\u001b[0;32m    402\u001b[0m \u001b[39mdef\u001b[39;00m \u001b[39mis_pressed\u001b[39m(hotkey):\n\u001b[0;32m    403\u001b[0m \u001b[39m    \u001b[39m\u001b[39m\"\"\"\u001b[39;00m\n\u001b[0;32m    404\u001b[0m \u001b[39m    Returns True if the key is pressed.\u001b[39;00m\n\u001b[0;32m    405\u001b[0m \n\u001b[1;32m   (...)\u001b[0m\n\u001b[0;32m    408\u001b[0m \u001b[39m        is_pressed('ctrl+space') #-> True\u001b[39;00m\n\u001b[0;32m    409\u001b[0m \u001b[39m    \"\"\"\u001b[39;00m\n\u001b[1;32m--> 410\u001b[0m     _listener\u001b[39m.\u001b[39;49mstart_if_necessary()\n\u001b[0;32m    412\u001b[0m     \u001b[39mif\u001b[39;00m _is_number(hotkey):\n\u001b[0;32m    413\u001b[0m         \u001b[39m# Shortcut.\u001b[39;00m\n\u001b[0;32m    414\u001b[0m         \u001b[39mwith\u001b[39;00m _pressed_events_lock:\n",
      "File \u001b[1;32mc:\\Users\\sandr\\anaconda3\\Lib\\site-packages\\keyboard\\_generic.py:28\u001b[0m, in \u001b[0;36mGenericListener.start_if_necessary\u001b[1;34m(self)\u001b[0m\n\u001b[0;32m     25\u001b[0m         \u001b[39mexcept\u001b[39;00m \u001b[39mException\u001b[39;00m \u001b[39mas\u001b[39;00m e:\n\u001b[0;32m     26\u001b[0m             traceback\u001b[39m.\u001b[39mprint_exc()\n\u001b[1;32m---> 28\u001b[0m \u001b[39mdef\u001b[39;00m \u001b[39mstart_if_necessary\u001b[39m(\u001b[39mself\u001b[39m):\n\u001b[0;32m     29\u001b[0m \u001b[39m    \u001b[39m\u001b[39m\"\"\"\u001b[39;00m\n\u001b[0;32m     30\u001b[0m \u001b[39m    Starts the listening thread if it wasn't already.\u001b[39;00m\n\u001b[0;32m     31\u001b[0m \u001b[39m    \"\"\"\u001b[39;00m\n\u001b[0;32m     32\u001b[0m     \u001b[39mself\u001b[39m\u001b[39m.\u001b[39mlock\u001b[39m.\u001b[39macquire()\n",
      "\u001b[1;31mKeyboardInterrupt\u001b[0m: "
     ]
    }
   ],
   "source": [
    "# aluno: sandro teixeira\n",
    "\n",
    "area = pyautogui.screenshot(region=(70, 138, 505, 523))\n",
    "area.save(r\".\\rock-area.png\")\n",
    "\n",
    "def click(x,y):\n",
    "    win32api.SetCursorPos((x,y))\n",
    "    win32api.mouse_event(win32con.MOUSEEVENTF_LEFTDOWN,0,0)\n",
    "    win32api.mouse_event(win32con.MOUSEEVENTF_LEFTUP,0,0)\n",
    "\n",
    "while not keyboard.is_pressed('q'):\n",
    "    flag = 0\n",
    "    pic = pyautogui.screenshot(region=(20, 138, 528, 439))\n",
    "\n",
    "    width, height = pic.size\n",
    "\n",
    "    for x in range(0, width, 5):\n",
    "        \n",
    "        for y in range(0, height, 5):\n",
    "\n",
    "            r, g, b = pic.getpixel((x, y))\n",
    "\n",
    "            if r == 207 and g == 61 and b == 237:\n",
    "                flag = 1\n",
    "                click(x+20, y+138)\n",
    "                keyboard.press(LEFT)\n",
    "                time.sleep(0.2)\n",
    "                keyboard.release(LEFT)\n",
    "                time.sleep(0.1)\n",
    "                break\n",
    "               \n",
    "            if r == 131 and g == 221 and b == 53:\n",
    "                flag = 1\n",
    "                click(x+20, y+138)\n",
    "                keyboard.press('Down')\n",
    "                time.sleep(0.2)\n",
    "                keyboard.release('Down')\n",
    "                time.sleep(0.1)\n",
    "                break\n",
    "            \n",
    "            if r == 14 and g == 161 and b == 225:\n",
    "                flag = 1\n",
    "                click(x+20, y+138)\n",
    "                keyboard.press(RIGHT)\n",
    "                time.sleep(0.2)\n",
    "                keyboard.release(RIGHT)\n",
    "                time.sleep(0.1)\n",
    "                \n",
    "                break\n",
    "\n",
    "        if flag == 1:\n",
    "            time.sleep(0.1)\n",
    "            break"
   ]
  }
 ],
 "metadata": {
  "kernelspec": {
   "display_name": "base",
   "language": "python",
   "name": "python3"
  },
  "language_info": {
   "codemirror_mode": {
    "name": "ipython",
    "version": 3
   },
   "file_extension": ".py",
   "mimetype": "text/x-python",
   "name": "python",
   "nbconvert_exporter": "python",
   "pygments_lexer": "ipython3",
   "version": "3.11.4"
  }
 },
 "nbformat": 4,
 "nbformat_minor": 2
}
