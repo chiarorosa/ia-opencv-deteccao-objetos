{
 "cells": [
  {
   "cell_type": "code",
   "execution_count": 1,
   "metadata": {},
   "outputs": [
    {
     "name": "stdout",
     "output_type": "stream",
     "text": [
      "Requirement already satisfied: opencv-python in c:\\users\\fanti\\appdata\\local\\packages\\pythonsoftwarefoundation.python.3.9_qbz5n2kfra8p0\\localcache\\local-packages\\python39\\site-packages (4.8.1.78)\n",
      "Requirement already satisfied: numpy>=1.19.3 in c:\\users\\fanti\\appdata\\local\\packages\\pythonsoftwarefoundation.python.3.9_qbz5n2kfra8p0\\localcache\\local-packages\\python39\\site-packages (from opencv-python) (1.26.2)\n",
      "Note: you may need to restart the kernel to use updated packages.\n"
     ]
    },
    {
     "name": "stderr",
     "output_type": "stream",
     "text": [
      "WARNING: You are using pip version 22.0.4; however, version 23.3.1 is available.\n",
      "You should consider upgrading via the 'C:\\Users\\fanti\\AppData\\Local\\Microsoft\\WindowsApps\\PythonSoftwareFoundation.Python.3.9_qbz5n2kfra8p0\\python.exe -m pip install --upgrade pip' command.\n"
     ]
    }
   ],
   "source": [
    "pip install opencv-python"
   ]
  },
  {
   "cell_type": "code",
   "execution_count": 2,
   "metadata": {},
   "outputs": [
    {
     "name": "stdout",
     "output_type": "stream",
     "text": [
      "Requirement already satisfied: pywin32 in c:\\users\\pablo\\appdata\\roaming\\python\\python311\\site-packages (306)\n",
      "Note: you may need to restart the kernel to use updated packages.\n"
     ]
    }
   ],
   "source": [
    "pip install pywin32"
   ]
  },
  {
   "cell_type": "code",
   "execution_count": 3,
   "metadata": {},
   "outputs": [
    {
     "name": "stdout",
     "output_type": "stream",
     "text": [
      "Collecting keyboard\n",
      "  Downloading keyboard-0.13.5-py3-none-any.whl (58 kB)\n",
      "     ---------------------------------------- 58.1/58.1 KB 1.0 MB/s eta 0:00:00\n",
      "Installing collected packages: keyboard\n",
      "Successfully installed keyboard-0.13.5\n",
      "Note: you may need to restart the kernel to use updated packages.\n"
     ]
    },
    {
     "name": "stderr",
     "output_type": "stream",
     "text": [
      "WARNING: You are using pip version 22.0.4; however, version 23.3.1 is available.\n",
      "You should consider upgrading via the 'C:\\Users\\fanti\\AppData\\Local\\Microsoft\\WindowsApps\\PythonSoftwareFoundation.Python.3.9_qbz5n2kfra8p0\\python.exe -m pip install --upgrade pip' command.\n"
     ]
    }
   ],
   "source": [
    "pip install keyboard"
   ]
  },
  {
   "cell_type": "code",
   "execution_count": 4,
   "metadata": {},
   "outputs": [
    {
     "name": "stdout",
     "output_type": "stream",
     "text": [
      "Collecting pyautogui\n",
      "  Downloading PyAutoGUI-0.9.54.tar.gz (61 kB)\n",
      "     ---------------------------------------- 61.2/61.2 KB 1.1 MB/s eta 0:00:00\n",
      "  Installing build dependencies: started\n",
      "  Installing build dependencies: finished with status 'done'\n",
      "  Getting requirements to build wheel: started\n",
      "  Getting requirements to build wheel: finished with status 'done'\n",
      "  Preparing metadata (pyproject.toml): started\n",
      "  Preparing metadata (pyproject.toml): finished with status 'done'\n",
      "Collecting pytweening>=1.0.4\n",
      "  Downloading pytweening-1.0.7.tar.gz (168 kB)\n",
      "     -------------------------------------- 168.2/168.2 KB 2.5 MB/s eta 0:00:00\n",
      "  Preparing metadata (setup.py): started\n",
      "  Preparing metadata (setup.py): finished with status 'done'\n",
      "Collecting mouseinfo\n",
      "  Downloading MouseInfo-0.1.3.tar.gz (10 kB)\n",
      "  Preparing metadata (setup.py): started\n",
      "  Preparing metadata (setup.py): finished with status 'done'\n",
      "Collecting pygetwindow>=0.0.5\n",
      "  Downloading PyGetWindow-0.0.9.tar.gz (9.7 kB)\n",
      "  Preparing metadata (setup.py): started\n",
      "  Preparing metadata (setup.py): finished with status 'done'\n",
      "Collecting pymsgbox\n",
      "  Downloading PyMsgBox-1.0.9.tar.gz (18 kB)\n",
      "  Installing build dependencies: started\n",
      "  Installing build dependencies: finished with status 'done'\n",
      "  Getting requirements to build wheel: started\n",
      "  Getting requirements to build wheel: finished with status 'done'\n",
      "  Preparing metadata (pyproject.toml): started\n",
      "  Preparing metadata (pyproject.toml): finished with status 'done'\n",
      "Collecting pyscreeze>=0.1.21\n",
      "  Downloading PyScreeze-0.1.30.tar.gz (27 kB)\n",
      "  Installing build dependencies: started\n",
      "  Installing build dependencies: finished with status 'done'\n",
      "  Getting requirements to build wheel: started\n",
      "  Getting requirements to build wheel: finished with status 'done'\n",
      "  Preparing metadata (pyproject.toml): started\n",
      "  Preparing metadata (pyproject.toml): finished with status 'done'\n",
      "Collecting pyrect\n",
      "  Downloading PyRect-0.2.0.tar.gz (17 kB)\n",
      "  Preparing metadata (setup.py): started\n",
      "  Preparing metadata (setup.py): finished with status 'done'\n",
      "Collecting Pillow>=9.2.0\n",
      "  Downloading Pillow-10.1.0-cp39-cp39-win_amd64.whl (2.6 MB)\n",
      "     ---------------------------------------- 2.6/2.6 MB 1.1 MB/s eta 0:00:00\n",
      "Collecting pyperclip\n",
      "  Downloading pyperclip-1.8.2.tar.gz (20 kB)\n",
      "  Preparing metadata (setup.py): started\n",
      "  Preparing metadata (setup.py): finished with status 'done'\n",
      "Using legacy 'setup.py install' for pygetwindow, since package 'wheel' is not installed.\n",
      "Using legacy 'setup.py install' for pytweening, since package 'wheel' is not installed.\n",
      "Using legacy 'setup.py install' for mouseinfo, since package 'wheel' is not installed.\n",
      "Using legacy 'setup.py install' for pyperclip, since package 'wheel' is not installed.\n",
      "Using legacy 'setup.py install' for pyrect, since package 'wheel' is not installed.\n",
      "Building wheels for collected packages: pyautogui, pyscreeze, pymsgbox\n",
      "  Building wheel for pyautogui (pyproject.toml): started\n",
      "  Building wheel for pyautogui (pyproject.toml): finished with status 'done'\n",
      "  Created wheel for pyautogui: filename=PyAutoGUI-0.9.54-py3-none-any.whl size=37597 sha256=37291f960a864d83b0852b6189be29e4926dec300f07b00b2cfa7d55f95aa5b6\n",
      "  Stored in directory: c:\\users\\fanti\\appdata\\local\\pip\\cache\\wheels\\29\\2b\\5f\\9df8525a15d14d1a3ba04fe66e5bd3d2dc8ca7f5fb2ab2ec50\n",
      "  Building wheel for pyscreeze (pyproject.toml): started\n",
      "  Building wheel for pyscreeze (pyproject.toml): finished with status 'done'\n",
      "  Created wheel for pyscreeze: filename=PyScreeze-0.1.30-py3-none-any.whl size=14400 sha256=64d66ca2e3dab665090eaf7eceb0b94bb8fe5d175ce838cee59cbd1b82054e57\n",
      "  Stored in directory: c:\\users\\fanti\\appdata\\local\\pip\\cache\\wheels\\57\\ef\\26\\25869f8f3fbfc108d6d5a50f57184291825caedc8ab1eaa1d6\n",
      "  Building wheel for pymsgbox (pyproject.toml): started\n",
      "  Building wheel for pymsgbox (pyproject.toml): finished with status 'done'\n",
      "  Created wheel for pymsgbox: filename=PyMsgBox-1.0.9-py3-none-any.whl size=7416 sha256=ec606b15273cc297950f01e9fc0f0716192ac321633a1f5141dcf9c0c864fa92\n",
      "  Stored in directory: c:\\users\\fanti\\appdata\\local\\pip\\cache\\wheels\\7f\\13\\8c\\584c519464297d9637f9cd29fd1dcdf55e2a2cab225c76a2db\n",
      "Successfully built pyautogui pyscreeze pymsgbox\n",
      "Installing collected packages: pytweening, pyrect, pyperclip, pymsgbox, pygetwindow, Pillow, mouseinfo, pyscreeze, pyautogui\n",
      "  Running setup.py install for pytweening: started\n",
      "  Running setup.py install for pytweening: finished with status 'done'\n",
      "  Running setup.py install for pyrect: started\n",
      "  Running setup.py install for pyrect: finished with status 'done'\n",
      "  Running setup.py install for pyperclip: started\n",
      "  Running setup.py install for pyperclip: finished with status 'done'\n",
      "  Running setup.py install for pygetwindow: started\n",
      "  Running setup.py install for pygetwindow: finished with status 'done'\n",
      "  Running setup.py install for mouseinfo: started\n",
      "  Running setup.py install for mouseinfo: finished with status 'done'\n",
      "Successfully installed Pillow-10.1.0 mouseinfo-0.1.3 pyautogui-0.9.54 pygetwindow-0.0.9 pymsgbox-1.0.9 pyperclip-1.8.2 pyrect-0.2.0 pyscreeze-0.1.30 pytweening-1.0.7\n",
      "Note: you may need to restart the kernel to use updated packages.\n"
     ]
    },
    {
     "name": "stderr",
     "output_type": "stream",
     "text": [
      "WARNING: You are using pip version 22.0.4; however, version 23.3.1 is available.\n",
      "You should consider upgrading via the 'C:\\Users\\fanti\\AppData\\Local\\Microsoft\\WindowsApps\\PythonSoftwareFoundation.Python.3.9_qbz5n2kfra8p0\\python.exe -m pip install --upgrade pip' command.\n"
     ]
    }
   ],
   "source": [
    "pip install pyautogui"
   ]
  },
  {
   "cell_type": "code",
   "execution_count": 5,
   "metadata": {},
   "outputs": [],
   "source": [
    "from pyautogui import *\n",
    "import pyautogui\n",
    "import time\n",
    "import keyboard\n",
    "#import random\n",
    "import win32api, win32con"
   ]
  },
  {
   "cell_type": "code",
   "execution_count": null,
   "metadata": {},
   "outputs": [],
   "source": [
    "## https://www.agame.com/game/magic-piano-tiles\n",
    "# Coluna 1 Posição: X: 290 Y: 361\n",
    "# Coluna 2 Posição: X: 374 Y: 361\n",
    "# Coluna 3 Posição: X: 453 Y: 361\n",
    "# Coluna 4 Posição: X: 556 Y: 361"
   ]
  },
  {
   "cell_type": "code",
   "execution_count": 6,
   "metadata": {},
   "outputs": [
    {
     "ename": "KeyboardInterrupt",
     "evalue": "",
     "output_type": "error",
     "traceback": [
      "\u001b[1;31m---------------------------------------------------------------------------\u001b[0m",
      "\u001b[1;31mKeyboardInterrupt\u001b[0m                         Traceback (most recent call last)",
      "\u001b[1;32md:\\6° Semestre\\Inteligência Artificial\\FIA\\Aula 15\\ia-opencv-deteccao-objetos\\piano-bot.ipynb Célula 7\u001b[0m line \u001b[0;36m1\n\u001b[0;32m     <a href='vscode-notebook-cell:/d%3A/6%C2%B0%20Semestre/Intelig%C3%AAncia%20Artificial/FIA/Aula%2015/ia-opencv-deteccao-objetos/piano-bot.ipynb#W6sZmlsZQ%3D%3D?line=12'>13</a>\u001b[0m \u001b[39mif\u001b[39;00m pyautogui\u001b[39m.\u001b[39mpixel(\u001b[39m535\u001b[39m, \u001b[39m233\u001b[39m)[\u001b[39m0\u001b[39m] \u001b[39m==\u001b[39m \u001b[39m0\u001b[39m:\n\u001b[0;32m     <a href='vscode-notebook-cell:/d%3A/6%C2%B0%20Semestre/Intelig%C3%AAncia%20Artificial/FIA/Aula%2015/ia-opencv-deteccao-objetos/piano-bot.ipynb#W6sZmlsZQ%3D%3D?line=13'>14</a>\u001b[0m     clique(\u001b[39m535\u001b[39m, \u001b[39m254\u001b[39m)\n\u001b[1;32m---> <a href='vscode-notebook-cell:/d%3A/6%C2%B0%20Semestre/Intelig%C3%AAncia%20Artificial/FIA/Aula%2015/ia-opencv-deteccao-objetos/piano-bot.ipynb#W6sZmlsZQ%3D%3D?line=14'>15</a>\u001b[0m \u001b[39mif\u001b[39;00m pyautogui\u001b[39m.\u001b[39;49mpixel(\u001b[39m667\u001b[39;49m, \u001b[39m233\u001b[39;49m)[\u001b[39m0\u001b[39m] \u001b[39m==\u001b[39m \u001b[39m0\u001b[39m:\n\u001b[0;32m     <a href='vscode-notebook-cell:/d%3A/6%C2%B0%20Semestre/Intelig%C3%AAncia%20Artificial/FIA/Aula%2015/ia-opencv-deteccao-objetos/piano-bot.ipynb#W6sZmlsZQ%3D%3D?line=15'>16</a>\u001b[0m     clique(\u001b[39m667\u001b[39m, \u001b[39m254\u001b[39m)\n",
      "File \u001b[1;32m~\\AppData\\Local\\Packages\\PythonSoftwareFoundation.Python.3.9_qbz5n2kfra8p0\\LocalCache\\local-packages\\Python39\\site-packages\\pyscreeze\\__init__.py:757\u001b[0m, in \u001b[0;36mpixel\u001b[1;34m(x, y)\u001b[0m\n\u001b[0;32m    754\u001b[0m \u001b[39mif\u001b[39;00m sys\u001b[39m.\u001b[39mplatform \u001b[39m==\u001b[39m \u001b[39m'\u001b[39m\u001b[39mwin32\u001b[39m\u001b[39m'\u001b[39m:\n\u001b[0;32m    755\u001b[0m     \u001b[39m# On Windows, calling GetDC() and GetPixel() is twice as fast as using our screenshot() function.\u001b[39;00m\n\u001b[0;32m    756\u001b[0m     \u001b[39mwith\u001b[39;00m __win32_openDC() \u001b[39mas\u001b[39;00m hdc:  \u001b[39m# handle will be released automatically\u001b[39;00m\n\u001b[1;32m--> 757\u001b[0m         color \u001b[39m=\u001b[39m windll\u001b[39m.\u001b[39;49mgdi32\u001b[39m.\u001b[39;49mGetPixel(hdc, x, y)\n\u001b[0;32m    758\u001b[0m         \u001b[39mif\u001b[39;00m color \u001b[39m<\u001b[39m \u001b[39m0\u001b[39m:\n\u001b[0;32m    759\u001b[0m             \u001b[39mraise\u001b[39;00m \u001b[39mWindowsError\u001b[39;00m(\u001b[39m\"\u001b[39m\u001b[39mwindll.gdi32.GetPixel failed : return \u001b[39m\u001b[39m{}\u001b[39;00m\u001b[39m\"\u001b[39m\u001b[39m.\u001b[39mformat(color))\n",
      "\u001b[1;31mKeyboardInterrupt\u001b[0m: "
     ]
    }
   ],
   "source": [
    "def clique(x, y):\n",
    "    win32api.SetCursorPos((x, y))\n",
    "    time.sleep(0.01)\n",
    "    win32api.mouse_event(win32con.MOUSEEVENTF_LEFTDOWN, 0, 0)\n",
    "    time.sleep(0.1)  # Tempo de espera entre o clique para baixo e para cima\n",
    "    win32api.mouse_event(win32con.MOUSEEVENTF_LEFTUP, 0, 0)\n",
    "\n",
    "while not keyboard.is_pressed('q'):\n",
    "    if pyautogui.pixel(290, 233)[0] == 0:\n",
    "        clique(290, 254)\n",
    "    if pyautogui.pixel(374, 233)[0] == 0:\n",
    "        clique(374, 254)\n",
    "    if pyautogui.pixel(453, 233)[0] == 0:\n",
    "        clique(453, 254)\n",
    "    if pyautogui.pixel(556, 233)[0] == 0:\n",
    "        clique(556, 254)\n"
   ]
  }
 ],
 "metadata": {
  "kernelspec": {
   "display_name": "base",
   "language": "python",
   "name": "python3"
  },
  "language_info": {
   "codemirror_mode": {
    "name": "ipython",
    "version": 3
   },
   "file_extension": ".py",
   "mimetype": "text/x-python",
   "name": "python",
   "nbconvert_exporter": "python",
   "pygments_lexer": "ipython3",
   "version": "3.9.13"
  }
 },
 "nbformat": 4,
 "nbformat_minor": 2
}
