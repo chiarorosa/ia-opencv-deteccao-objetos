{
 "cells": [
  {
   "cell_type": "code",
   "execution_count": null,
   "metadata": {},
   "outputs": [],
   "source": [
    "from pyautogui import *\n",
    "import pyautogui\n",
    "import time\n",
    "import keyboard\n",
    "import random\n",
    "import win32api, win32con"
   ]
  },
  {
   "cell_type": "code",
   "execution_count": null,
   "metadata": {},
   "outputs": [],
   "source": [
    "# import pyautogui\n",
    "\n",
    "# area = pyautogui.screenshot(region=(122, 158, 382, 422))\n",
    "# area.save(r\".\\area.png\")\n"
   ]
  },
  {
   "cell_type": "code",
   "execution_count": null,
   "metadata": {},
   "outputs": [],
   "source": [
    "def click(x, y):\n",
    "    win32api.SetCursorPos((x, y))\n",
    "    win32api.mouse_event(win32con.MOUSEEVENTF_LEFTDOWN, 0, 0)\n",
    "    win32api.mouse_event(win32con.MOUSEEVENTF_LEFTUP, 0, 0)\n",
    "\n",
    "while keyboard.is_pressed('q') == False:\n",
    "    flag = 0\n",
    "    pic = pyautogui.screenshot()\n",
    "\n",
    "    width, height = pic.size\n",
    "\n",
    "    for x in range(0, width, 5):\n",
    "        for y in range(0, height, 5):\n",
    "            r, g, b = pic.getpixel((x, y))\n",
    "            if r == 189 and g == 0 and b == 4:\n",
    "                flag = 1\n",
    "                click(x,y)\n",
    "                time.sleep(0.01)\n",
    "                break\n",
    "        if flag == 1:\n",
    "            break"
   ]
  }
 ],
 "metadata": {
  "language_info": {
   "name": "python"
  }
 },
 "nbformat": 4,
 "nbformat_minor": 2
}
