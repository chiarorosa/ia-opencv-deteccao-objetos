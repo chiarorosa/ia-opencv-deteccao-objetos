{
 "cells": [
  {
   "cell_type": "code",
   "execution_count": 1,
   "metadata": {},
   "outputs": [],
   "source": [
    "#Posição area EsquerdaSuperior: (340, 380)\n",
    "#Posição area DireitaSuperior: (937, 380)\n",
    "#Posição area EsquerdaInferior: (340, 799)\n",
    "\n",
    "# 937 - 340 = 597 (largura)\n",
    "# 799 - 380 = 419 (altura)"
   ]
  },
  {
   "cell_type": "code",
   "execution_count": null,
   "metadata": {},
   "outputs": [],
   "source": [
    "# http://www.aimbooster.com/\n",
    "# alvo do bot\n",
    "#RGB: (255, 219, 195)"
   ]
  },
  {
   "cell_type": "code",
   "execution_count": 6,
   "metadata": {},
   "outputs": [],
   "source": [
    "import pyautogui\n",
    "\n",
    "area = pyautogui.screenshot(region=(340, 380, 587, 418))\n",
    "area.save(r\".\\area-aimbooster.png\")"
   ]
  },
  {
   "cell_type": "code",
   "execution_count": 11,
   "metadata": {},
   "outputs": [],
   "source": [
    "from pyautogui import *\n",
    "import pyautogui\n",
    "import time\n",
    "import keyboard\n",
    "import random\n",
    "import win32api, win32con\n",
    "\n",
    "time.sleep(2)\n",
    "\n",
    "def click(x,y):\n",
    "    win32api.SetCursorPos((x,y))\n",
    "    win32api.mouse_event(win32con.MOUSEEVENTF_LEFTDOWN,0,0)\n",
    "    win32api.mouse_event(win32con.MOUSEEVENTF_LEFTUP,0,0)\n",
    "\n",
    "while keyboard.is_pressed('q') == False:\n",
    "    flag = 0\n",
    "    pic = pyautogui.screenshot(region=(340, 380, 587, 418))\n",
    "\n",
    "    width, height = pic.size\n",
    "\n",
    "    # Largura: 602\n",
    "    for x in range(0, width, 5):\n",
    "        # Altura: 418\n",
    "        for y in range(0, height, 5):\n",
    "\n",
    "            r, g, b = pic.getpixel((x, y))\n",
    "\n",
    "            if r == 255 and g == 219 and b == 195:\n",
    "                flag = 1\n",
    "                click(x+346, y+381)\n",
    "                #time.sleep(0.05)\n",
    "                time.sleep(0.1)\n",
    "                break\n",
    "\n",
    "        if flag == 1:\n",
    "            break"
   ]
  }
 ],
 "metadata": {
  "kernelspec": {
   "display_name": "base",
   "language": "python",
   "name": "python3"
  },
  "language_info": {
   "codemirror_mode": {
    "name": "ipython",
    "version": 3
   },
   "file_extension": ".py",
   "mimetype": "text/x-python",
   "name": "python",
   "nbconvert_exporter": "python",
   "pygments_lexer": "ipython3",
   "version": "3.11.4"
  }
 },
 "nbformat": 4,
 "nbformat_minor": 2
}
