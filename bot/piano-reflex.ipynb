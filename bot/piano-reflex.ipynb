{
 "cells": [
  {
   "cell_type": "code",
   "execution_count": null,
   "metadata": {},
   "outputs": [],
   "source": [
    "#Aluno Henrique Mertins\n",
    "## https://www.agame.com/game/piano-tiles-reflex"
   ]
  },
  {
   "cell_type": "code",
   "execution_count": 3,
   "metadata": {},
   "outputs": [],
   "source": [
    "from pyautogui import *\n",
    "import pyautogui\n",
    "import time\n",
    "import keyboard\n",
    "#import random\n",
    "import win32api, win32con"
   ]
  },
  {
   "cell_type": "code",
   "execution_count": 4,
   "metadata": {},
   "outputs": [
    {
     "ename": "KeyboardInterrupt",
     "evalue": "",
     "output_type": "error",
     "traceback": [
      "\u001b[1;31m---------------------------------------------------------------------------\u001b[0m",
      "\u001b[1;31mKeyboardInterrupt\u001b[0m                         Traceback (most recent call last)",
      "\u001b[1;32mc:\\Users\\henri\\OneDrive\\Documentos\\SENAC-4\\sex - InteligenciaArtificial\\jogoAim\\ia-opencv-deteccao-objetos\\bot\\piano-reflex.ipynb Cell 3\u001b[0m line \u001b[0;36m1\n\u001b[0;32m     <a href='vscode-notebook-cell:/c%3A/Users/henri/OneDrive/Documentos/SENAC-4/sex%20-%20InteligenciaArtificial/jogoAim/ia-opencv-deteccao-objetos/bot/piano-reflex.ipynb#W4sZmlsZQ%3D%3D?line=11'>12</a>\u001b[0m \u001b[39mif\u001b[39;00m pyautogui\u001b[39m.\u001b[39mpixel(\u001b[39m-\u001b[39m\u001b[39m1231\u001b[39m, \u001b[39m287\u001b[39m) \u001b[39m==\u001b[39m (\u001b[39m74\u001b[39m, \u001b[39m74\u001b[39m, \u001b[39m86\u001b[39m):\n\u001b[0;32m     <a href='vscode-notebook-cell:/c%3A/Users/henri/OneDrive/Documentos/SENAC-4/sex%20-%20InteligenciaArtificial/jogoAim/ia-opencv-deteccao-objetos/bot/piano-reflex.ipynb#W4sZmlsZQ%3D%3D?line=12'>13</a>\u001b[0m     clique(\u001b[39m-\u001b[39m\u001b[39m1231\u001b[39m, \u001b[39m287\u001b[39m)\n\u001b[1;32m---> <a href='vscode-notebook-cell:/c%3A/Users/henri/OneDrive/Documentos/SENAC-4/sex%20-%20InteligenciaArtificial/jogoAim/ia-opencv-deteccao-objetos/bot/piano-reflex.ipynb#W4sZmlsZQ%3D%3D?line=13'>14</a>\u001b[0m \u001b[39mif\u001b[39;00m pyautogui\u001b[39m.\u001b[39;49mpixel(\u001b[39m-\u001b[39;49m\u001b[39m1158\u001b[39;49m, \u001b[39m287\u001b[39;49m) \u001b[39m==\u001b[39m (\u001b[39m74\u001b[39m, \u001b[39m74\u001b[39m, \u001b[39m86\u001b[39m):\n\u001b[0;32m     <a href='vscode-notebook-cell:/c%3A/Users/henri/OneDrive/Documentos/SENAC-4/sex%20-%20InteligenciaArtificial/jogoAim/ia-opencv-deteccao-objetos/bot/piano-reflex.ipynb#W4sZmlsZQ%3D%3D?line=14'>15</a>\u001b[0m     clique(\u001b[39m-\u001b[39m\u001b[39m1158\u001b[39m, \u001b[39m287\u001b[39m)\n\u001b[0;32m     <a href='vscode-notebook-cell:/c%3A/Users/henri/OneDrive/Documentos/SENAC-4/sex%20-%20InteligenciaArtificial/jogoAim/ia-opencv-deteccao-objetos/bot/piano-reflex.ipynb#W4sZmlsZQ%3D%3D?line=15'>16</a>\u001b[0m \u001b[39mif\u001b[39;00m pyautogui\u001b[39m.\u001b[39mpixel(\u001b[39m-\u001b[39m\u001b[39m1037\u001b[39m, \u001b[39m287\u001b[39m) \u001b[39m==\u001b[39m (\u001b[39m74\u001b[39m, \u001b[39m74\u001b[39m, \u001b[39m86\u001b[39m):\n",
      "File \u001b[1;32mc:\\Users\\henri\\AppData\\Local\\Programs\\Python\\Python38\\lib\\site-packages\\pyscreeze\\__init__.py:757\u001b[0m, in \u001b[0;36mpixel\u001b[1;34m(x, y)\u001b[0m\n\u001b[0;32m    754\u001b[0m \u001b[39mif\u001b[39;00m sys\u001b[39m.\u001b[39mplatform \u001b[39m==\u001b[39m \u001b[39m'\u001b[39m\u001b[39mwin32\u001b[39m\u001b[39m'\u001b[39m:\n\u001b[0;32m    755\u001b[0m     \u001b[39m# On Windows, calling GetDC() and GetPixel() is twice as fast as using our screenshot() function.\u001b[39;00m\n\u001b[0;32m    756\u001b[0m     \u001b[39mwith\u001b[39;00m __win32_openDC() \u001b[39mas\u001b[39;00m hdc:  \u001b[39m# handle will be released automatically\u001b[39;00m\n\u001b[1;32m--> 757\u001b[0m         color \u001b[39m=\u001b[39m windll\u001b[39m.\u001b[39;49mgdi32\u001b[39m.\u001b[39;49mGetPixel(hdc, x, y)\n\u001b[0;32m    758\u001b[0m         \u001b[39mif\u001b[39;00m color \u001b[39m<\u001b[39m \u001b[39m0\u001b[39m:\n\u001b[0;32m    759\u001b[0m             \u001b[39mraise\u001b[39;00m \u001b[39mWindowsError\u001b[39;00m(\u001b[39m\"\u001b[39m\u001b[39mwindll.gdi32.GetPixel failed : return \u001b[39m\u001b[39m{}\u001b[39;00m\u001b[39m\"\u001b[39m\u001b[39m.\u001b[39mformat(color))\n",
      "\u001b[1;31mKeyboardInterrupt\u001b[0m: "
     ]
    }
   ],
   "source": [
    "def clique(x, y):\n",
    "    win32api.SetCursorPos((x, y))\n",
    "    time.sleep(0.01)\n",
    "    win32api.mouse_event(win32con.MOUSEEVENTF_LEFTDOWN, 0, 0)\n",
    "    time.sleep(0.1)  # Tempo de espera entre o clique para baixo e para cima\n",
    "    win32api.mouse_event(win32con.MOUSEEVENTF_LEFTUP, 0, 0)\n",
    "\n",
    "while not keyboard.is_pressed('q'):\n",
    "    # coluna1\n",
    "    if pyautogui.pixel(-1334, 287) == (74, 74, 86):\n",
    "        clique(-1334, 287)\n",
    "    if pyautogui.pixel(-1231, 287) == (74, 74, 86):\n",
    "        clique(-1231, 287)\n",
    "    if pyautogui.pixel(-1158, 287) == (74, 74, 86):\n",
    "        clique(-1158, 287)\n",
    "    if pyautogui.pixel(-1037, 287) == (74, 74, 86):\n",
    "        clique(-1037, 287)\n",
    "    # coluna2\n",
    "    if pyautogui.pixel(-1332, 363) == (74, 74, 86):\n",
    "        clique(-1332, 363)\n",
    "    if pyautogui.pixel(-1251, 363) == (74, 74, 86):\n",
    "        clique(-1251, 363)\n",
    "    if pyautogui.pixel(-1146, 363) == (74, 74, 86):\n",
    "        clique(-1146, 363)\n",
    "    if pyautogui.pixel(-1031, 363) == (74, 74, 86):\n",
    "        clique(-1031, 363)\n",
    "    # coluna3\n",
    "    if pyautogui.pixel(-1351, 486) == (74, 74, 86):\n",
    "        clique(-1351, 486)\n",
    "    if pyautogui.pixel(-1246, 486) == (74, 74, 86):\n",
    "        clique(-1246, 486)\n",
    "    if pyautogui.pixel(-1145, 486) == (74, 74, 86):\n",
    "        clique(-1145, 486)\n",
    "    if pyautogui.pixel(-1041, 486) == (74, 74, 86):\n",
    "        clique(-1041, 486)\n",
    "    # coluna4\n",
    "    if pyautogui.pixel(-1329, 590) == (74, 74, 86):\n",
    "        clique(-1329, 590)\n",
    "    if pyautogui.pixel(-1241, 590) == (74, 74, 86):\n",
    "        clique(-1241, 590)\n",
    "    if pyautogui.pixel(-1141, 590) == (74, 74, 86):\n",
    "        clique(-1141, 590)\n",
    "    if pyautogui.pixel(-1047, 590) == (74, 74, 86):\n",
    "        clique(-1047, 590)\n"
   ]
  }
 ],
 "metadata": {
  "kernelspec": {
   "display_name": "base",
   "language": "python",
   "name": "python3"
  },
  "language_info": {
   "codemirror_mode": {
    "name": "ipython",
    "version": 3
   },
   "file_extension": ".py",
   "mimetype": "text/x-python",
   "name": "python",
   "nbconvert_exporter": "python",
   "pygments_lexer": "ipython3",
   "version": "3.8.5"
  }
 },
 "nbformat": 4,
 "nbformat_minor": 2
}
