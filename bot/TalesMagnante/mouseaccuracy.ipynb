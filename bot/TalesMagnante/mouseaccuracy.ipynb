{
 "cells": [
  {
   "cell_type": "code",
   "execution_count": null,
   "metadata": {},
   "outputs": [],
   "source": [
    "#https://mouseaccuracy.com/"
   ]
  },
  {
   "cell_type": "code",
   "execution_count": 10,
   "metadata": {},
   "outputs": [
    {
     "name": "stdout",
     "output_type": "stream",
     "text": [
      "Carregando: \n",
      "Carregando: \n",
      "Carregando: \n",
      "Carregando: \n",
      "Carregando: \n",
      "Carregando: \n",
      "Carregando: \n",
      "Carregando: \n",
      "Carregando: \n",
      "Carregando: \n",
      "Carregando: \n",
      "Carregando: \n",
      "Carregando: \n",
      "Carregando: \n",
      "Carregando: \n",
      "Carregando: \n",
      "Carregando: \n",
      "Carregando: \n",
      "Carregando: \n",
      "Carregando: \n",
      "Carregando: \n",
      "Carregando: \n",
      "Carregando: \n",
      "Carregando: \n",
      "Carregando: \n",
      "Carregando: \n",
      "Carregando: \n",
      "Carregando: \n",
      "Carregando: \n",
      "Carregando: \n",
      "Carregando: \n",
      "Carregando: \n",
      "Carregando: \n",
      "Carregando: \n",
      "Carregando: \n",
      "Carregando: \n",
      "Carregando: \n",
      "Carregando: \n",
      "Carregando: \n",
      "Carregando: \n",
      "Carregando: \n",
      "Carregando: \n",
      "Carregando: \n",
      "Carregando: \n",
      "Carregando: \n",
      "Carregando: \n",
      "Carregando: \n",
      "Carregando: \n",
      "Carregando: \n",
      "Carregando: \n",
      "Carregando: \n"
     ]
    }
   ],
   "source": [
    "import pyautogui as pt\n",
    "from time import sleep\n",
    "\n",
    "class Clicker:\n",
    "    def __init__(self, target_png, speed):\n",
    "        self.target_png = target_png\n",
    "        self.speed = speed\n",
    "        pt.FAILSAFE = True\n",
    "\n",
    "    def nav_to_image(self):\n",
    "        try:\n",
    "            position = pt.locateCenterOnScreen(self.target_png, confidence=0.8)\n",
    "            if position is not None:\n",
    "                pt.moveTo(position, duration=self.speed)\n",
    "                pt.click(position)\n",
    "            else:\n",
    "                print('Imagem não encontrada...')\n",
    "                return False\n",
    "        except Exception as e:\n",
    "            print(f\"Carregando: {e}\")\n",
    "            return False\n",
    "        return True\n",
    "\n",
    "if __name__ == '__main__':\n",
    "    sleep(2)\n",
    "    clicker = Clicker('alvoclick.png', speed=0.001)\n",
    "\n",
    "    end = 0\n",
    "    while True:\n",
    "        if not clicker.nav_to_image():\n",
    "            end += 1\n",
    "        if end > 50:\n",
    "            break"
   ]
  }
 ],
 "metadata": {
  "kernelspec": {
   "display_name": "Python 3",
   "language": "python",
   "name": "python3"
  },
  "language_info": {
   "codemirror_mode": {
    "name": "ipython",
    "version": 3
   },
   "file_extension": ".py",
   "mimetype": "text/x-python",
   "name": "python",
   "nbconvert_exporter": "python",
   "pygments_lexer": "ipython3",
   "version": "3.11.4"
  },
  "orig_nbformat": 4
 },
 "nbformat": 4,
 "nbformat_minor": 2
}
