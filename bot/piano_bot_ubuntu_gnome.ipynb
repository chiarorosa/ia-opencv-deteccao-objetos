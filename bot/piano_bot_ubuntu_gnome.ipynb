{
 "cells": [
  {
   "cell_type": "code",
   "execution_count": 13,
   "metadata": {
    "execution": {
     "iopub.execute_input": "2023-12-07T20:33:57.694745Z",
     "iopub.status.busy": "2023-12-07T20:33:57.693891Z",
     "iopub.status.idle": "2023-12-07T20:33:57.829378Z",
     "shell.execute_reply": "2023-12-07T20:33:57.827877Z",
     "shell.execute_reply.started": "2023-12-07T20:33:57.694708Z"
    },
    "tags": []
   },
   "outputs": [],
   "source": [
    "## https://www.agame.com/game/magic-piano-tiles\n",
    "# Coluna 1 Posição: X: 290 Y: 361\n",
    "# Coluna 2 Posição: X: 374 Y: 361\n",
    "# Coluna 3 Posição: X: 453 Y: 361\n",
    "# Coluna 4 Posição: X: 556 Y: 361"
   ]
  },
  {
   "cell_type": "code",
   "execution_count": 29,
   "metadata": {
    "execution": {
     "iopub.execute_input": "2023-12-07T20:46:38.005056Z",
     "iopub.status.busy": "2023-12-07T20:46:38.004607Z",
     "iopub.status.idle": "2023-12-07T20:46:38.010215Z",
     "shell.execute_reply": "2023-12-07T20:46:38.009067Z",
     "shell.execute_reply.started": "2023-12-07T20:46:38.005024Z"
    },
    "tags": []
   },
   "outputs": [],
   "source": [
    "from Xlib import X, display\n",
    "from pynput import keyboard as kb\n",
    "import time"
   ]
  },
  {
   "cell_type": "code",
   "execution_count": 24,
   "metadata": {
    "execution": {
     "iopub.execute_input": "2023-12-07T20:38:47.373842Z",
     "iopub.status.busy": "2023-12-07T20:38:47.373501Z",
     "iopub.status.idle": "2023-12-07T20:38:47.379198Z",
     "shell.execute_reply": "2023-12-07T20:38:47.377971Z",
     "shell.execute_reply.started": "2023-12-07T20:38:47.373812Z"
    },
    "tags": []
   },
   "outputs": [],
   "source": [
    "# Coordinates for columns\n",
    "columns = {\n",
    "    1: (290, 361),\n",
    "    2: (374, 361),\n",
    "    3: (453, 361),\n",
    "    4: (556, 361)\n",
    "}"
   ]
  },
  {
   "cell_type": "code",
   "execution_count": 25,
   "metadata": {
    "execution": {
     "iopub.execute_input": "2023-12-07T20:38:47.722128Z",
     "iopub.status.busy": "2023-12-07T20:38:47.721047Z",
     "iopub.status.idle": "2023-12-07T20:38:47.848422Z",
     "shell.execute_reply": "2023-12-07T20:38:47.846423Z",
     "shell.execute_reply.started": "2023-12-07T20:38:47.722000Z"
    },
    "tags": []
   },
   "outputs": [],
   "source": [
    "def click(x, y):\n",
    "    d = display.Display()\n",
    "    root = d.screen().root\n",
    "    root.warp_pointer(x, y)\n",
    "    d.sync()\n",
    "    d.flush()\n",
    "    X.ButtonPress\n",
    "    X.ButtonRelease\n",
    "    root.ungrab_pointer(0, X.CurrentTime)\n",
    "    d.sync()\n",
    "    d.flush()"
   ]
  },
  {
   "cell_type": "code",
   "execution_count": 33,
   "metadata": {
    "execution": {
     "iopub.execute_input": "2023-12-07T20:56:03.303541Z",
     "iopub.status.busy": "2023-12-07T20:56:03.303194Z",
     "iopub.status.idle": "2023-12-07T20:56:17.450316Z",
     "shell.execute_reply": "2023-12-07T20:56:17.449547Z",
     "shell.execute_reply.started": "2023-12-07T20:56:03.303512Z"
    },
    "tags": []
   },
   "outputs": [],
   "source": [
    "def on_key_release(key):\n",
    "    if key == kb.Key.esc or key == 'q':\n",
    "        return False\n",
    "\n",
    "listener = kb.Listener(on_release=on_key_release)\n",
    "listener.start()\n",
    "\n",
    "sleep_interval = 0.01\n",
    "\n",
    "while listener.running:\n",
    "    # time.sleep(sleep_interval)\n",
    "    \n",
    "    if pyautogui.pixel(columns[1][0], 233)[0] == 0:\n",
    "        click(columns[1][0], columns[1][1])\n",
    "    if pyautogui.pixel(columns[2][0], 233)[0] == 0:\n",
    "        click(columns[2][0], columns[2][1])\n",
    "    if pyautogui.pixel(columns[3][0], 233)[0] == 0:\n",
    "        click(columns[3][0], columns[3][1])\n",
    "    if pyautogui.pixel(columns[4][0], 233)[0] == 0:\n",
    "        click(columns[4][0], columns[4][1])"
   ]
  },
  {
   "cell_type": "code",
   "execution_count": null,
   "metadata": {},
   "outputs": [],
   "source": []
  }
 ],
 "metadata": {
  "kernelspec": {
   "display_name": "Python 3 (ipykernel)",
   "language": "python",
   "name": "python3"
  },
  "language_info": {
   "codemirror_mode": {
    "name": "ipython",
    "version": 3
   },
   "file_extension": ".py",
   "mimetype": "text/x-python",
   "name": "python",
   "nbconvert_exporter": "python",
   "pygments_lexer": "ipython3",
   "version": "3.10.6"
  },
  "widgets": {
   "application/vnd.jupyter.widget-state+json": {
    "state": {},
    "version_major": 2,
    "version_minor": 0
   }
  }
 },
 "nbformat": 4,
 "nbformat_minor": 4
}
