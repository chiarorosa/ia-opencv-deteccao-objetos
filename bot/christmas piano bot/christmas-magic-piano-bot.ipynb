{
 "cells": [
  {
   "cell_type": "code",
   "execution_count": 40,
   "metadata": {},
   "outputs": [],
   "source": [
    "# https://www.agame.com/game/christmas-magic-piano-tiles\n",
    "\n",
    "# Cristoffer Rodrigues Laner\n",
    "\n",
    "# Basicamente fiz a visão computacional de um jogo de piano de Natal, verificando se o botão é verde, se sim ele clica.\n",
    "\n",
    "from pyautogui import *\n",
    "import pyautogui\n",
    "import time\n",
    "import keyboard\n",
    "import win32api, win32con"
   ]
  },
  {
   "cell_type": "code",
   "execution_count": 44,
   "metadata": {},
   "outputs": [],
   "source": [
    "def click(x, y):\n",
    "    win32api.SetCursorPos((x, y))\n",
    "    time.sleep(0.01)\n",
    "    win32api.mouse_event(win32con.MOUSEEVENTF_LEFTDOWN, 0, 0)\n",
    "    time.sleep(0.1)\n",
    "    win32api.mouse_event(win32con.MOUSEEVENTF_LEFTUP, 0, 0)\n",
    "\n",
    "while not keyboard.is_pressed('q'):\n",
    "    if pyautogui.pixel(250, 622)[0] == 55:\n",
    "        click(250, 622)\n",
    "    if pyautogui.pixel(351, 622)[0] == 55:\n",
    "        click(351, 622)\n",
    "    if pyautogui.pixel(447, 622)[0] == 55:\n",
    "        click(447, 622)\n",
    "    if pyautogui.pixel(542, 622)[0] == 55:\n",
    "        click(542, 622)"
   ]
  }
 ],
 "metadata": {
  "kernelspec": {
   "display_name": "base",
   "language": "python",
   "name": "python3"
  },
  "language_info": {
   "codemirror_mode": {
    "name": "ipython",
    "version": 3
   },
   "file_extension": ".py",
   "mimetype": "text/x-python",
   "name": "python",
   "nbconvert_exporter": "python",
   "pygments_lexer": "ipython3",
   "version": "3.11.4"
  }
 },
 "nbformat": 4,
 "nbformat_minor": 5
}
