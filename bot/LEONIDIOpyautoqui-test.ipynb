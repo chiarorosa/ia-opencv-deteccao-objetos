{
 "cells": [
  {
   "cell_type": "code",
   "execution_count": 12,
   "metadata": {},
   "outputs": [
    {
     "name": "stdout",
     "output_type": "stream",
     "text": [
      "Posição do Mouse: (364, 235), RGB: (33, 34, 44)\n",
      "Posição do Mouse: (614, 397), RGB: (0, 44, 65)\n",
      "Posição do Mouse: (615, 393), RGB: (0, 44, 65)\n",
      "Posição do Mouse: (615, 393), RGB: (0, 44, 65)\n",
      "Posição do Mouse: (615, 393), RGB: (0, 44, 65)\n",
      "Posição do Mouse: (615, 393), RGB: (0, 44, 65)\n",
      "Posição do Mouse: (615, 393), RGB: (0, 44, 65)\n",
      "Posição do Mouse: (336, 532), RGB: (40, 42, 54)\n",
      "Posição do Mouse: (336, 532), RGB: (40, 42, 54)\n",
      "Posição do Mouse: (336, 532), RGB: (40, 42, 54)\n",
      "Posição do Mouse: (336, 532), RGB: (40, 42, 54)\n",
      "Posição do Mouse: (239, 115), RGB: (56, 58, 66)\n"
     ]
    },
    {
     "ename": "KeyboardInterrupt",
     "evalue": "",
     "output_type": "error",
     "traceback": [
      "\u001b[1;31m---------------------------------------------------------------------------\u001b[0m",
      "\u001b[1;31mKeyboardInterrupt\u001b[0m                         Traceback (most recent call last)",
      "\u001b[1;32mc:\\Users\\Win10\\FIA\\desafio3\\pyautoqui-test.ipynb Cell 1\u001b[0m line \u001b[0;36m1\n\u001b[0;32m     <a href='vscode-notebook-cell:/c%3A/Users/Win10/FIA/desafio3/pyautoqui-test.ipynb#W0sZmlsZQ%3D%3D?line=10'>11</a>\u001b[0m         \u001b[39mprint\u001b[39m(\u001b[39mf\u001b[39m\u001b[39m\"\u001b[39m\u001b[39mPosição do Mouse: (\u001b[39m\u001b[39m{\u001b[39;00mmouse_x\u001b[39m}\u001b[39;00m\u001b[39m, \u001b[39m\u001b[39m{\u001b[39;00mmouse_y\u001b[39m}\u001b[39;00m\u001b[39m), RGB: \u001b[39m\u001b[39m{\u001b[39;00mrgb\u001b[39m}\u001b[39;00m\u001b[39m\"\u001b[39m)\n\u001b[0;32m     <a href='vscode-notebook-cell:/c%3A/Users/Win10/FIA/desafio3/pyautoqui-test.ipynb#W0sZmlsZQ%3D%3D?line=12'>13</a>\u001b[0m         time\u001b[39m.\u001b[39msleep(\u001b[39m2\u001b[39m)\n\u001b[1;32m---> <a href='vscode-notebook-cell:/c%3A/Users/Win10/FIA/desafio3/pyautoqui-test.ipynb#W0sZmlsZQ%3D%3D?line=14'>15</a>\u001b[0m display_mouse_info()\n",
      "\u001b[1;32mc:\\Users\\Win10\\FIA\\desafio3\\pyautoqui-test.ipynb Cell 1\u001b[0m line \u001b[0;36m1\n\u001b[0;32m      <a href='vscode-notebook-cell:/c%3A/Users/Win10/FIA/desafio3/pyautoqui-test.ipynb#W0sZmlsZQ%3D%3D?line=8'>9</a>\u001b[0m rgb \u001b[39m=\u001b[39m pyautogui\u001b[39m.\u001b[39mpixel(mouse_x, mouse_y)\n\u001b[0;32m     <a href='vscode-notebook-cell:/c%3A/Users/Win10/FIA/desafio3/pyautoqui-test.ipynb#W0sZmlsZQ%3D%3D?line=10'>11</a>\u001b[0m \u001b[39mprint\u001b[39m(\u001b[39mf\u001b[39m\u001b[39m\"\u001b[39m\u001b[39mPosição do Mouse: (\u001b[39m\u001b[39m{\u001b[39;00mmouse_x\u001b[39m}\u001b[39;00m\u001b[39m, \u001b[39m\u001b[39m{\u001b[39;00mmouse_y\u001b[39m}\u001b[39;00m\u001b[39m), RGB: \u001b[39m\u001b[39m{\u001b[39;00mrgb\u001b[39m}\u001b[39;00m\u001b[39m\"\u001b[39m)\n\u001b[1;32m---> <a href='vscode-notebook-cell:/c%3A/Users/Win10/FIA/desafio3/pyautoqui-test.ipynb#W0sZmlsZQ%3D%3D?line=12'>13</a>\u001b[0m time\u001b[39m.\u001b[39;49msleep(\u001b[39m2\u001b[39;49m)\n",
      "\u001b[1;31mKeyboardInterrupt\u001b[0m: "
     ]
    }
   ],
   "source": [
    "import pyautogui\n",
    "import time\n",
    "import keyboard\n",
    "\n",
    "def display_mouse_info():\n",
    "    while not keyboard.is_pressed('q'):\n",
    "        mouse_x, mouse_y = pyautogui.position()\n",
    "        \n",
    "        rgb = pyautogui.pixel(mouse_x, mouse_y)\n",
    "        \n",
    "        print(f\"Posição do Mouse: ({mouse_x}, {mouse_y}), RGB: {rgb}\")\n",
    "        \n",
    "        time.sleep(2)\n",
    "    \n",
    "display_mouse_info()"
   ]
  }
 ],
 "metadata": {
  "kernelspec": {
   "display_name": "Python 3",
   "language": "python",
   "name": "python3"
  },
  "language_info": {
   "codemirror_mode": {
    "name": "ipython",
    "version": 3
   },
   "file_extension": ".py",
   "mimetype": "text/x-python",
   "name": "python",
   "nbconvert_exporter": "python",
   "pygments_lexer": "ipython3",
   "version": "3.11.2"
  }
 },
 "nbformat": 4,
 "nbformat_minor": 2
}
