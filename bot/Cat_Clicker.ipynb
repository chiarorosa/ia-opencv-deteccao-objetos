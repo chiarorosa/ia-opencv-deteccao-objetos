{
 "cells": [
  {
   "cell_type": "code",
   "execution_count": 2,
   "metadata": {},
   "outputs": [
    {
     "name": "stdout",
     "output_type": "stream",
     "text": [
      "Defaulting to user installation because normal site-packages is not writeable\n",
      "Requirement already satisfied: pyautogui in c:\\users\\gerson\\appdata\\roaming\\python\\python310\\site-packages (0.9.54)\n",
      "Requirement already satisfied: pymsgbox in c:\\users\\gerson\\appdata\\roaming\\python\\python310\\site-packages (from pyautogui) (1.0.9)\n",
      "Requirement already satisfied: pytweening>=1.0.4 in c:\\users\\gerson\\appdata\\roaming\\python\\python310\\site-packages (from pyautogui) (1.0.7)\n",
      "Requirement already satisfied: pyscreeze>=0.1.21 in c:\\users\\gerson\\appdata\\roaming\\python\\python310\\site-packages (from pyautogui) (0.1.30)\n",
      "Requirement already satisfied: pygetwindow>=0.0.5 in c:\\users\\gerson\\appdata\\roaming\\python\\python310\\site-packages (from pyautogui) (0.0.9)\n",
      "Requirement already satisfied: mouseinfo in c:\\users\\gerson\\appdata\\roaming\\python\\python310\\site-packages (from pyautogui) (0.1.3)\n",
      "Requirement already satisfied: pyrect in c:\\users\\gerson\\appdata\\roaming\\python\\python310\\site-packages (from pygetwindow>=0.0.5->pyautogui) (0.2.0)\n",
      "Requirement already satisfied: Pillow>=9.2.0 in c:\\users\\gerson\\appdata\\roaming\\python\\python310\\site-packages (from pyscreeze>=0.1.21->pyautogui) (10.1.0)\n",
      "Requirement already satisfied: pyperclip in c:\\users\\gerson\\appdata\\roaming\\python\\python310\\site-packages (from mouseinfo->pyautogui) (1.8.2)\n",
      "Note: you may need to restart the kernel to use updated packages.\n"
     ]
    }
   ],
   "source": [
    "pip install pyautogui\n"
   ]
  },
  {
   "cell_type": "code",
   "execution_count": 4,
   "metadata": {},
   "outputs": [
    {
     "name": "stdout",
     "output_type": "stream",
     "text": [
      "Defaulting to user installation because normal site-packages is not writeable\n",
      "Requirement already satisfied: keyboard in c:\\users\\gerson\\appdata\\roaming\\python\\python310\\site-packages (0.13.5)\n",
      "Note: you may need to restart the kernel to use updated packages.\n"
     ]
    }
   ],
   "source": [
    "pip install keyboard"
   ]
  },
  {
   "cell_type": "code",
   "execution_count": null,
   "metadata": {},
   "outputs": [],
   "source": [
    "#Utilizei o jogo do link : https://poki.com/br/g/cat-clicker-re, mas pode ser adaptavel para outros jogos de clicker "
   ]
  },
  {
   "cell_type": "code",
   "execution_count": 14,
   "metadata": {},
   "outputs": [
    {
     "name": "stdout",
     "output_type": "stream",
     "text": [
      "Posicione o mouse sobre o local do primeiro clique e aguarde...\n",
      "Coordenadas do primeiro clique: (618, 328)\n"
     ]
    }
   ],
   "source": [
    "#Identifique as cordenadas onde voce quer utlizar o clicker\n",
    "\n",
    "import pyautogui\n",
    "import time\n",
    "\n",
    "print(\"Posicione o mouse sobre o local do primeiro clique e aguarde...\")\n",
    "time.sleep(5)  # Aguarde 5 segundos para posicionar o mouse\n",
    "\n",
    "# Obtenha as coordenadas atuais do mouse\n",
    "x_primeiro_clique, y_primeiro_clique = pyautogui.position()\n",
    "\n",
    "print(f\"Coordenadas do primeiro clique: ({x_primeiro_clique}, {y_primeiro_clique})\")\n"
   ]
  },
  {
   "cell_type": "code",
   "execution_count": 19,
   "metadata": {},
   "outputs": [
    {
     "name": "stdout",
     "output_type": "stream",
     "text": [
      "Pressione 'c' para interromper o script.\n"
     ]
    }
   ],
   "source": [
    "import pyautogui\n",
    "import keyboard\n",
    "import time\n",
    "\n",
    "# Coordenadas do primeiro clique\n",
    "x_primeiro_clique, y_primeiro_clique = 618, 328\n",
    "\n",
    "# Função para realizar um clique\n",
    "def click(x, y):\n",
    "    pyautogui.click(x, y)\n",
    "\n",
    "print(\"Pressione 'c' para interromper o script.\")\n",
    "\n",
    "# Loop contínuo até que a tecla 'c' seja pressionada\n",
    "while not keyboard.is_pressed('c'):\n",
    "    click(x_primeiro_clique, y_primeiro_clique)\n",
    "    time.sleep(0.01)  # Pausa de meio segundo entre cliques\n"
   ]
  }
 ],
 "metadata": {
  "kernelspec": {
   "display_name": "Python 3",
   "language": "python",
   "name": "python3"
  },
  "language_info": {
   "codemirror_mode": {
    "name": "ipython",
    "version": 3
   },
   "file_extension": ".py",
   "mimetype": "text/x-python",
   "name": "python",
   "nbconvert_exporter": "python",
   "pygments_lexer": "ipython3",
   "version": "3.10.2"
  }
 },
 "nbformat": 4,
 "nbformat_minor": 2
}
