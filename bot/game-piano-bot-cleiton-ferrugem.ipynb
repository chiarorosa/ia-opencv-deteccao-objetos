{
 "cells": [
  {
   "cell_type": "code",
   "execution_count": null,
   "metadata": {},
   "outputs": [],
   "source": [
    "# Import\n",
    "\n",
    "import time\n",
    "from Xlib import X, display\n",
    "from pynput import keyboard as kb"
   ]
  },
  {
   "cell_type": "code",
   "execution_count": null,
   "metadata": {},
   "outputs": [],
   "source": [
    "# Coordenadas\n",
    "\n",
    "column_coordinates = {\n",
    "    'column_1': (283, 357),\n",
    "    'column_2': (371, 357),\n",
    "    'column_3': (448, 357),\n",
    "    'column_4': (542, 357)\n",
    "}"
   ]
  },
  {
   "cell_type": "code",
   "execution_count": null,
   "metadata": {},
   "outputs": [],
   "source": [
    "# Simular Click\n",
    "\n",
    "def simulate_click(pos_x, pos_y):\n",
    "    disp = display.Display()\n",
    "    root_screen = disp.screen().root\n",
    "    root_screen.warp_pointer(pos_x, pos_y)\n",
    "    disp.sync()\n",
    "    disp.flush()\n",
    "    X.ButtonPress\n",
    "    X.ButtonRelease\n",
    "    root_screen.ungrab_pointer(0, X.CurrentTime)\n",
    "    disp.sync()\n",
    "    disp.flush()"
   ]
  },
  {
   "cell_type": "code",
   "execution_count": null,
   "metadata": {},
   "outputs": [],
   "source": [
    "# Liberar Tecla\n",
    "\n",
    "def handle_key_release(event_key):\n",
    "    if event_key == kb.Key.esc or event_key == 'q':\n",
    "        return False"
   ]
  },
  {
   "cell_type": "code",
   "execution_count": null,
   "metadata": {},
   "outputs": [],
   "source": [
    "# Key Listener\n",
    "\n",
    "key_listener = kb.Listener(on_release=handle_key_release)\n",
    "key_listener.start()"
   ]
  },
  {
   "cell_type": "code",
   "execution_count": null,
   "metadata": {},
   "outputs": [],
   "source": [
    "#Cliques na cor Preta\n",
    "\n",
    "while key_listener.running:\n",
    "    for column, coordinates in column_coordinates.items():\n",
    "        if pyautogui.pixel(coordinates[0], 233)[0] == 0:\n",
    "            simulate_click(coordinates[0], coordinates[1])"
   ]
  }
 ],
 "metadata": {
  "kernelspec": {
   "display_name": "Python 3",
   "language": "python",
   "name": "python3"
  },
  "language_info": {
   "codemirror_mode": {
    "name": "ipython",
    "version": 3
   },
   "file_extension": ".py",
   "mimetype": "text/x-python",
   "name": "python",
   "nbconvert_exporter": "python",
   "pygments_lexer": "ipython3",
   "version": "3.11.6"
  }
 },
 "nbformat": 4,
 "nbformat_minor": 2
}
