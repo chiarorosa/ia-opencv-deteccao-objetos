{
 "cells": [
  {
   "cell_type": "code",
   "execution_count": null,
   "metadata": {},
   "outputs": [],
   "source": [
    "#https://www.silvergames.com/en/rock-hero-online\n",
    "\n",
    "import keyboard\n",
    "import pyautogui\n",
    "import time\n",
    "# Defina a posição do pixel que você deseja verificar\n",
    "pixel_position = (294, 910)\n",
    "expected_color = (138, 220, 58)\n",
    "\n",
    "pixel_positiony = (140, 910)\n",
    "expected_colory = (252, 224, 60)\n",
    "\n",
    "pixel_positionx = (451, 910)\n",
    "expected_colorx = (86, 207, 212)    \n",
    "\n",
    "# Loop principal\n",
    "while not keyboard.is_pressed('q'):\n",
    "    # Obtém a cor do pixel na posição especificada\n",
    "    pixel_color = pyautogui.pixel(*pixel_position)\n",
    "    #print(f\"cor: {pixel_color}\")\n",
    "    # Verifica se a cor do pixel é igual à cor esperada\n",
    "    if pixel_color == expected_color:\n",
    "        # Se a condição for verdadeira, pressiona a tecla 'a'\n",
    "       time.sleep(0.1)\n",
    "       print(\"clicou verde\")\n",
    "      \n",
    "       pyautogui.keyDown('s')\n",
    "       pyautogui.keyUp('s')\n",
    "       \n",
    "     # Obtém a cor do pixel na posição especificada\n",
    "    pixel_colory = pyautogui.pixel(*pixel_positiony)\n",
    "    print(f\"cor: {pixel_colory}\")\n",
    "    # Verifica se a cor do pixel é igual à cor esperada\n",
    "    if pixel_colory == expected_colory:\n",
    "        # Se a condição for verdadeira, pressiona a tecla 'a'\n",
    "       time.sleep(0.05)\n",
    "       print(\"clicou amarelo\")\n",
    "      \n",
    "       pyautogui.keyDown('a')\n",
    "       pyautogui.keyUp('a')   \n",
    "       \n",
    "    pixel_colorx = pyautogui.pixel(*pixel_positionx)\n",
    "    #print(f\"cor: {pixel_colorx}\")\n",
    "    # Verifica se a cor do pixel é igual à cor esperada\n",
    "    if pixel_colorx == expected_colorx:\n",
    "        # Se a condição for verdadeira, pressiona a tecla 'a'\n",
    "      # time.sleep(0.1)\n",
    "       print(\"clicou azul\")\n",
    "      \n",
    "       pyautogui.keyDown('d')\n",
    "       pyautogui.keyUp('d')   \n",
    "       \n",
    "       "
   ]
  }
 ],
 "metadata": {
  "kernelspec": {
   "display_name": "Python 3",
   "language": "python",
   "name": "python3"
  },
  "language_info": {
   "codemirror_mode": {
    "name": "ipython",
    "version": 3
   },
   "file_extension": ".py",
   "mimetype": "text/x-python",
   "name": "python",
   "nbconvert_exporter": "python",
   "pygments_lexer": "ipython3",
   "version": "3.11.2"
  }
 },
 "nbformat": 4,
 "nbformat_minor": 2
}
