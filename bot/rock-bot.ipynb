{
 "cells": [
  {
   "cell_type": "code",
   "execution_count": null,
   "metadata": {},
   "outputs": [],
   "source": [
    "# https://www.agame.com/game/rock-hero\n",
    "# Posição do Mouse: (86, 621), RGB: (215, 100, 239) rosa\n",
    "# Posição do Mouse: (271, 620), RGB: (125, 219, 44) verda\n",
    "# Posição do Mouse: (460, 618), RGB: (71, 181, 231) azul\n",
    "\n",
    "\n",
    "# Posição do Mouse: (70, 138), RGB: (20, 178, 218)\n",
    "# Posição do Mouse: (575, 140), RGB: (20, 178, 218)\n",
    "# Posição do Mouse: (113, 600), RGB: (14, 156, 211)\n",
    "# Posição do Mouse: (540, 661), RGB: (15, 159, 211)\n",
    "# 575-70 = 505\n",
    "# 661 - 138 = 523"
   ]
  },
  {
   "cell_type": "code",
   "execution_count": null,
   "metadata": {},
   "outputs": [],
   "source": [
    "from pyautogui import *\n",
    "import pyautogui\n",
    "import time\n",
    "import keyboard\n",
    "\n",
    "import win32api, win32con"
   ]
  },
  {
   "cell_type": "code",
   "execution_count": null,
   "metadata": {},
   "outputs": [],
   "source": [
    "# aluno: sandro teixeira\n",
    "\n",
    "area = pyautogui.screenshot(region=(70, 138, 505, 523))\n",
    "area.save(r\".\\rock-area.png\")\n",
    "\n",
    "def click(x,y):\n",
    "    win32api.SetCursorPos((x,y))\n",
    "    win32api.mouse_event(win32con.MOUSEEVENTF_LEFTDOWN,0,0)\n",
    "    win32api.mouse_event(win32con.MOUSEEVENTF_LEFTUP,0,0)\n",
    "\n",
    "while not keyboard.is_pressed('q'):\n",
    "    flag = 0\n",
    "    pic = pyautogui.screenshot(region=(20, 138, 528, 439))\n",
    "\n",
    "    width, height = pic.size\n",
    "\n",
    "    for x in range(0, width, 5):\n",
    "        \n",
    "        for y in range(0, height, 5):\n",
    "\n",
    "            r, g, b = pic.getpixel((x, y))\n",
    "\n",
    "            if r == 207 and g == 61 and b == 237:\n",
    "                flag = 1\n",
    "                click(x+20, y+138)\n",
    "                keyboard.press(LEFT)\n",
    "                time.sleep(0.2)\n",
    "                keyboard.release(LEFT)\n",
    "                time.sleep(0.1)\n",
    "                break\n",
    "               \n",
    "            if r == 131 and g == 221 and b == 53:\n",
    "                flag = 1\n",
    "                click(x+20, y+138)\n",
    "                keyboard.press('Down')\n",
    "                time.sleep(0.2)\n",
    "                keyboard.release('Down')\n",
    "                time.sleep(0.1)\n",
    "                break\n",
    "            \n",
    "            if r == 14 and g == 161 and b == 225:\n",
    "                flag = 1\n",
    "                click(x+20, y+138)\n",
    "                keyboard.press(RIGHT)\n",
    "                time.sleep(0.2)\n",
    "                keyboard.release(RIGHT)\n",
    "                time.sleep(0.1)\n",
    "                \n",
    "                break\n",
    "\n",
    "        if flag == 1:\n",
    "            time.sleep(0.1)\n",
    "            break"
   ]
  }
 ],
 "metadata": {
  "kernelspec": {
   "display_name": "base",
   "language": "python",
   "name": "python3"
  },
  "language_info": {
   "codemirror_mode": {
    "name": "ipython",
    "version": 3
   },
   "file_extension": ".py",
   "mimetype": "text/x-python",
   "name": "python",
   "nbconvert_exporter": "python",
   "pygments_lexer": "ipython3",
   "version": "3.11.4"
  }
 },
 "nbformat": 4,
 "nbformat_minor": 2
}
