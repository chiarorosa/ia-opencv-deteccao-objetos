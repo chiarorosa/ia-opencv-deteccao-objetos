{
 "cells": [
  {
   "cell_type": "code",
   "execution_count": null,
   "metadata": {},
   "outputs": [],
   "source": [
    "# Paola Fantinel dos Santos\n",
    "# https://www.agame.com/game/rock-hero"
   ]
  },
  {
   "cell_type": "code",
   "execution_count": 1,
   "metadata": {},
   "outputs": [],
   "source": [
    "from pyautogui import *\n",
    "import pyautogui\n",
    "import time\n",
    "import keyboard\n",
    "import win32api, win32con"
   ]
  },
  {
   "cell_type": "code",
   "execution_count": 11,
   "metadata": {},
   "outputs": [
    {
     "ename": "KeyboardInterrupt",
     "evalue": "",
     "output_type": "error",
     "traceback": [
      "\u001b[1;31m---------------------------------------------------------------------------\u001b[0m",
      "\u001b[1;31mKeyboardInterrupt\u001b[0m                         Traceback (most recent call last)",
      "\u001b[1;32md:\\6° Semestre\\Inteligência Artificial\\FIA\\Aula 15\\ia-opencv-deteccao-objetos\\bot\\rock-bot.ipynb Célula 3\u001b[0m line \u001b[0;36m1\n\u001b[0;32m     <a href='vscode-notebook-cell:/d%3A/6%C2%B0%20Semestre/Intelig%C3%AAncia%20Artificial/FIA/Aula%2015/ia-opencv-deteccao-objetos/bot/rock-bot.ipynb#W2sZmlsZQ%3D%3D?line=11'>12</a>\u001b[0m \u001b[39mif\u001b[39;00m pyautogui\u001b[39m.\u001b[39mpixel(\u001b[39m467\u001b[39m, \u001b[39m848\u001b[39m) \u001b[39m==\u001b[39m (\u001b[39m111\u001b[39m, \u001b[39m214\u001b[39m, \u001b[39m23\u001b[39m):\n\u001b[0;32m     <a href='vscode-notebook-cell:/d%3A/6%C2%B0%20Semestre/Intelig%C3%AAncia%20Artificial/FIA/Aula%2015/ia-opencv-deteccao-objetos/bot/rock-bot.ipynb#W2sZmlsZQ%3D%3D?line=12'>13</a>\u001b[0m     clique(\u001b[39m467\u001b[39m, \u001b[39m849\u001b[39m)\n\u001b[1;32m---> <a href='vscode-notebook-cell:/d%3A/6%C2%B0%20Semestre/Intelig%C3%AAncia%20Artificial/FIA/Aula%2015/ia-opencv-deteccao-objetos/bot/rock-bot.ipynb#W2sZmlsZQ%3D%3D?line=13'>14</a>\u001b[0m \u001b[39mif\u001b[39;00m pyautogui\u001b[39m.\u001b[39;49mpixel(\u001b[39m726\u001b[39;49m, \u001b[39m846\u001b[39;49m) \u001b[39m==\u001b[39m (\u001b[39m127\u001b[39m, \u001b[39m205\u001b[39m, \u001b[39m236\u001b[39m):\n\u001b[0;32m     <a href='vscode-notebook-cell:/d%3A/6%C2%B0%20Semestre/Intelig%C3%AAncia%20Artificial/FIA/Aula%2015/ia-opencv-deteccao-objetos/bot/rock-bot.ipynb#W2sZmlsZQ%3D%3D?line=14'>15</a>\u001b[0m     clique(\u001b[39m726\u001b[39m, \u001b[39m846\u001b[39m)\n",
      "File \u001b[1;32m~\\AppData\\Local\\Packages\\PythonSoftwareFoundation.Python.3.9_qbz5n2kfra8p0\\LocalCache\\local-packages\\Python39\\site-packages\\pyscreeze\\__init__.py:757\u001b[0m, in \u001b[0;36mpixel\u001b[1;34m(x, y)\u001b[0m\n\u001b[0;32m    754\u001b[0m \u001b[39mif\u001b[39;00m sys\u001b[39m.\u001b[39mplatform \u001b[39m==\u001b[39m \u001b[39m'\u001b[39m\u001b[39mwin32\u001b[39m\u001b[39m'\u001b[39m:\n\u001b[0;32m    755\u001b[0m     \u001b[39m# On Windows, calling GetDC() and GetPixel() is twice as fast as using our screenshot() function.\u001b[39;00m\n\u001b[0;32m    756\u001b[0m     \u001b[39mwith\u001b[39;00m __win32_openDC() \u001b[39mas\u001b[39;00m hdc:  \u001b[39m# handle will be released automatically\u001b[39;00m\n\u001b[1;32m--> 757\u001b[0m         color \u001b[39m=\u001b[39m windll\u001b[39m.\u001b[39;49mgdi32\u001b[39m.\u001b[39;49mGetPixel(hdc, x, y)\n\u001b[0;32m    758\u001b[0m         \u001b[39mif\u001b[39;00m color \u001b[39m<\u001b[39m \u001b[39m0\u001b[39m:\n\u001b[0;32m    759\u001b[0m             \u001b[39mraise\u001b[39;00m \u001b[39mWindowsError\u001b[39;00m(\u001b[39m\"\u001b[39m\u001b[39mwindll.gdi32.GetPixel failed : return \u001b[39m\u001b[39m{}\u001b[39;00m\u001b[39m\"\u001b[39m\u001b[39m.\u001b[39mformat(color))\n",
      "\u001b[1;31mKeyboardInterrupt\u001b[0m: "
     ]
    }
   ],
   "source": [
    "def clique(x, y):\n",
    "    win32api.SetCursorPos((x, y))\n",
    "    time.sleep(0.01)\n",
    "    win32api.mouse_event(win32con.MOUSEEVENTF_LEFTDOWN, 0, 0)\n",
    "    time.sleep(0.1)  # Tempo de espera entre o clique para baixo e para cima\n",
    "    win32api.mouse_event(win32con.MOUSEEVENTF_LEFTUP, 0, 0)\n",
    "\n",
    "while not keyboard.is_pressed('q'):\n",
    "    \n",
    "    if pyautogui.pixel(217, 841) == (222, 97, 247):\n",
    "        clique(217, 842)\n",
    "    if pyautogui.pixel(467, 848) == (111, 214, 23):\n",
    "        clique(467, 849)\n",
    "    if pyautogui.pixel(726, 846) == (127, 205, 236):\n",
    "        clique(726, 846)"
   ]
  }
 ],
 "metadata": {
  "kernelspec": {
   "display_name": "Python 3",
   "language": "python",
   "name": "python3"
  },
  "language_info": {
   "codemirror_mode": {
    "name": "ipython",
    "version": 3
   },
   "file_extension": ".py",
   "mimetype": "text/x-python",
   "name": "python",
   "nbconvert_exporter": "python",
   "pygments_lexer": "ipython3",
   "version": "3.9.13"
  }
 },
 "nbformat": 4,
 "nbformat_minor": 2
}
