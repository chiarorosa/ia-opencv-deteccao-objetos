{
 "cells": [
  {
   "cell_type": "code",
   "execution_count": 2,
   "metadata": {},
   "outputs": [],
   "source": [
    "from pyautogui import *\n",
    "import pyautogui\n",
    "import time\n",
    "import keyboard\n",
    "#import random\n",
    "import win32api, win32con"
   ]
  },
  {
   "cell_type": "code",
   "execution_count": null,
   "metadata": {},
   "outputs": [],
   "source": [
    "## https://doodles.google/doodle/hurdles-2012/\n",
    "# Posição teste Pulo: (632+, 433) \n",
    "# RGB Pulo: !=(65, 153, 75)\n",
    "# Posição início/fim jogo: (643, 371)\n",
    "# RGB fim jogo: (93, 131, 21)\n",
    "\n",
    "#Teclas: Espaço 0x20, esquerda 0x25, direita 0x27"
   ]
  },
  {
   "cell_type": "code",
   "execution_count": 77,
   "metadata": {},
   "outputs": [],
   "source": [
    "def clique(x, y):\n",
    "    win32api.SetCursorPos((x, y))\n",
    "    time.sleep(0.01)\n",
    "    win32api.mouse_event(win32con.MOUSEEVENTF_LEFTDOWN, 0, 0) # Pressiona botão esquerdo\n",
    "    time.sleep(0.01)  # Tempo de espera entre o clique para baixo e para cima\n",
    "    win32api.mouse_event(win32con.MOUSEEVENTF_LEFTUP, 0, 0) # Solta botão esquerdo\n",
    "\n",
    "def teclaEspaco():\n",
    "    win32api.keybd_event(0x20, 0, 0, 0)  # Pressiona a tecla\n",
    "    time.sleep(0.01)  # Aguarda um curto período de tempo (opcional)\n",
    "    win32api.keybd_event(0x20, 0, win32con.KEYEVENTF_KEYUP, 0)  # Solta a tecla\n",
    "\n",
    "def teclaEsquerda():\n",
    "    win32api.keybd_event(0x25, 0, 0, 0)  # Pressiona a tecla\n",
    "    time.sleep(0.02)  # Aguarda um curto período de tempo (opcional)\n",
    "    win32api.keybd_event(0x25, 0, win32con.KEYEVENTF_KEYUP, 0)  # Solta a tecla\n",
    "\n",
    "def teclaDireita():\n",
    "    win32api.keybd_event(0x27, 0, 0, 0)  # Pressiona a tecla\n",
    "    time.sleep(0.02)  # Aguarda um curto período de tempo (opcional)\n",
    "    win32api.keybd_event(0x27, 0, win32con.KEYEVENTF_KEYUP, 0)  # Solta a tecla\n"
   ]
  },
  {
   "cell_type": "code",
   "execution_count": 78,
   "metadata": {},
   "outputs": [],
   "source": [
    "\n",
    "clique(643, 371)\n",
    "win32api.SetCursorPos((643, 643))\n",
    "jogando = True\n",
    "esquerda = True\n",
    "pixelInicial = 632\n",
    "while not keyboard.is_pressed('q') and jogando:\n",
    "    rgbPulo1 = pyautogui.pixel(pixelInicial, 433)\n",
    "    rgbPulo2 = pyautogui.pixel(pixelInicial +12, 433)\n",
    "    rgbPulo3 = pyautogui.pixel(pixelInicial +24, 433)\n",
    "    rgbFim = pyautogui.pixel(643, 371)\n",
    "    if rgbPulo1 !=(65, 153, 75) or rgbPulo2 != (65, 153, 75) or rgbPulo3 != (65, 153, 75):\n",
    "        teclaEspaco()\n",
    "    elif esquerda:\n",
    "        teclaEsquerda()\n",
    "        esquerda = False\n",
    "    else: \n",
    "        teclaDireita()\n",
    "        esquerda = True\n",
    "    if rgbFim == (93, 131, 21):\n",
    "        jogando = False "
   ]
  }
 ],
 "metadata": {
  "kernelspec": {
   "display_name": "base",
   "language": "python",
   "name": "python3"
  },
  "language_info": {
   "codemirror_mode": {
    "name": "ipython",
    "version": 3
   },
   "file_extension": ".py",
   "mimetype": "text/x-python",
   "name": "python",
   "nbconvert_exporter": "python",
   "pygments_lexer": "ipython3",
   "version": "3.11.4"
  }
 },
 "nbformat": 4,
 "nbformat_minor": 2
}
