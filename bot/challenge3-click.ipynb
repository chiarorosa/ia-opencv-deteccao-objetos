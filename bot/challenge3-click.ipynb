{
 "cells": [
  {
   "cell_type": "code",
   "execution_count": 11,
   "metadata": {},
   "outputs": [
    {
     "name": "stdout",
     "output_type": "stream",
     "text": [
      "Requirement already satisfied: pywin32 in c:\\python312\\lib\\site-packages (306)\n",
      "Note: you may need to restart the kernel to use updated packages.\n"
     ]
    }
   ],
   "source": [
    "pip install pywin32"
   ]
  },
  {
   "cell_type": "code",
   "execution_count": 12,
   "metadata": {},
   "outputs": [
    {
     "name": "stdout",
     "output_type": "stream",
     "text": [
      "Requirement already satisfied: keyboard in c:\\users\\lukas\\appdata\\roaming\\python\\python312\\site-packages (0.13.5)\n",
      "Note: you may need to restart the kernel to use updated packages.\n"
     ]
    }
   ],
   "source": [
    "pip install keyboard"
   ]
  },
  {
   "cell_type": "code",
   "execution_count": 13,
   "metadata": {},
   "outputs": [
    {
     "name": "stdout",
     "output_type": "stream",
     "text": [
      "Requirement already satisfied: pyautogui in c:\\users\\lukas\\appdata\\roaming\\python\\python312\\site-packages (0.9.54)\n",
      "Requirement already satisfied: pymsgbox in c:\\users\\lukas\\appdata\\roaming\\python\\python312\\site-packages (from pyautogui) (1.0.9)\n",
      "Requirement already satisfied: pytweening>=1.0.4 in c:\\users\\lukas\\appdata\\roaming\\python\\python312\\site-packages (from pyautogui) (1.0.7)\n",
      "Requirement already satisfied: pyscreeze>=0.1.21 in c:\\python312\\lib\\site-packages (from pyautogui) (0.1.27)\n",
      "Requirement already satisfied: pygetwindow>=0.0.5 in c:\\users\\lukas\\appdata\\roaming\\python\\python312\\site-packages (from pyautogui) (0.0.9)\n",
      "Requirement already satisfied: mouseinfo in c:\\users\\lukas\\appdata\\roaming\\python\\python312\\site-packages (from pyautogui) (0.1.3)\n",
      "Requirement already satisfied: pyrect in c:\\users\\lukas\\appdata\\roaming\\python\\python312\\site-packages (from pygetwindow>=0.0.5->pyautogui) (0.2.0)\n",
      "Requirement already satisfied: pyperclip in c:\\users\\lukas\\appdata\\roaming\\python\\python312\\site-packages (from mouseinfo->pyautogui) (1.8.2)\n",
      "Note: you may need to restart the kernel to use updated packages.\n"
     ]
    }
   ],
   "source": [
    "pip install pyautogui"
   ]
  },
  {
   "cell_type": "code",
   "execution_count": 14,
   "metadata": {},
   "outputs": [],
   "source": [
    "from pyautogui import *\n",
    "import pyautogui\n",
    "import time\n",
    "import keyboard\n",
    "import win32api, win32con"
   ]
  },
  {
   "cell_type": "code",
   "execution_count": 15,
   "metadata": {},
   "outputs": [],
   "source": [
    "# https://www.crazygames.com.br/jogos/clock-clicker\n",
    "# coluna 1  Posição X 604; Posição Y  384"
   ]
  },
  {
   "cell_type": "code",
   "execution_count": 16,
   "metadata": {},
   "outputs": [
    {
     "ename": "PyAutoGUIException",
     "evalue": "PyAutoGUI was unable to import pyscreeze. (This is likely because you're running a version of Python that Pillow (which pyscreeze depends on) doesn't support currently.) Please install this module to enable the function you tried to call.",
     "output_type": "error",
     "traceback": [
      "\u001b[1;31m---------------------------------------------------------------------------\u001b[0m",
      "\u001b[1;31mPyAutoGUIException\u001b[0m                        Traceback (most recent call last)",
      "\u001b[1;32mc:\\arquivos de programação\\4semfacul\\Inteligência Artificial\\bot-jogo\\challenge3-click.ipynb Célula 6\u001b[0m line \u001b[0;36m9\n\u001b[0;32m      <a href='vscode-notebook-cell:/c%3A/arquivos%20de%20programa%C3%A7%C3%A3o/4semfacul/Intelig%C3%AAncia%20Artificial/bot-jogo/challenge3-click.ipynb#W5sZmlsZQ%3D%3D?line=5'>6</a>\u001b[0m     win32api\u001b[39m.\u001b[39mmouse_event(win32con\u001b[39m.\u001b[39mMOUSEEVENTF_LEFTUP, \u001b[39m0\u001b[39m, \u001b[39m0\u001b[39m)\n\u001b[0;32m      <a href='vscode-notebook-cell:/c%3A/arquivos%20de%20programa%C3%A7%C3%A3o/4semfacul/Intelig%C3%AAncia%20Artificial/bot-jogo/challenge3-click.ipynb#W5sZmlsZQ%3D%3D?line=7'>8</a>\u001b[0m \u001b[39mwhile\u001b[39;00m \u001b[39mnot\u001b[39;00m keyboard\u001b[39m.\u001b[39mis_pressed(\u001b[39m'\u001b[39m\u001b[39mc\u001b[39m\u001b[39m'\u001b[39m):\n\u001b[1;32m----> <a href='vscode-notebook-cell:/c%3A/arquivos%20de%20programa%C3%A7%C3%A3o/4semfacul/Intelig%C3%AAncia%20Artificial/bot-jogo/challenge3-click.ipynb#W5sZmlsZQ%3D%3D?line=8'>9</a>\u001b[0m     \u001b[39mif\u001b[39;00m pyautogui\u001b[39m.\u001b[39;49mpixel(\u001b[39m892\u001b[39;49m, \u001b[39m304\u001b[39;49m)[\u001b[39m0\u001b[39m] \u001b[39m==\u001b[39m \u001b[39m0\u001b[39m:\n\u001b[0;32m     <a href='vscode-notebook-cell:/c%3A/arquivos%20de%20programa%C3%A7%C3%A3o/4semfacul/Intelig%C3%AAncia%20Artificial/bot-jogo/challenge3-click.ipynb#W5sZmlsZQ%3D%3D?line=9'>10</a>\u001b[0m         click(\u001b[39m615\u001b[39m, \u001b[39m393\u001b[39m)\n\u001b[0;32m     <a href='vscode-notebook-cell:/c%3A/arquivos%20de%20programa%C3%A7%C3%A3o/4semfacul/Intelig%C3%AAncia%20Artificial/bot-jogo/challenge3-click.ipynb#W5sZmlsZQ%3D%3D?line=10'>11</a>\u001b[0m     \u001b[39mif\u001b[39;00m pyautogui\u001b[39m.\u001b[39mpixel(\u001b[39m863\u001b[39m, \u001b[39m305\u001b[39m)[\u001b[39m0\u001b[39m] \u001b[39m==\u001b[39m \u001b[39m0\u001b[39m:\n",
      "File \u001b[1;32m~\\AppData\\Roaming\\Python\\Python312\\site-packages\\pyautogui\\__init__.py:228\u001b[0m, in \u001b[0;36m_couldNotImportPyScreeze\u001b[1;34m(*unused_args, **unsed_kwargs)\u001b[0m\n\u001b[0;32m    223\u001b[0m \u001b[39mdef\u001b[39;00m \u001b[39m_couldNotImportPyScreeze\u001b[39m(\u001b[39m*\u001b[39munused_args, \u001b[39m*\u001b[39m\u001b[39m*\u001b[39munsed_kwargs):\n\u001b[0;32m    224\u001b[0m \u001b[39m    \u001b[39m\u001b[39m\"\"\"\u001b[39;00m\n\u001b[0;32m    225\u001b[0m \u001b[39m    This function raises ``PyAutoGUIException``. It's used for the PyScreeze function names if the PyScreeze module\u001b[39;00m\n\u001b[0;32m    226\u001b[0m \u001b[39m    failed to be imported.\u001b[39;00m\n\u001b[0;32m    227\u001b[0m \u001b[39m    \"\"\"\u001b[39;00m\n\u001b[1;32m--> 228\u001b[0m     \u001b[39mraise\u001b[39;00m PyAutoGUIException(\n\u001b[0;32m    229\u001b[0m         \u001b[39m\"\u001b[39m\u001b[39mPyAutoGUI was unable to import pyscreeze. (This is likely because you\u001b[39m\u001b[39m'\u001b[39m\u001b[39mre running a version of Python that Pillow (which pyscreeze depends on) doesn\u001b[39m\u001b[39m'\u001b[39m\u001b[39mt support currently.) Please install this module to enable the function you tried to call.\u001b[39m\u001b[39m\"\u001b[39m\n\u001b[0;32m    230\u001b[0m     )\n",
      "\u001b[1;31mPyAutoGUIException\u001b[0m: PyAutoGUI was unable to import pyscreeze. (This is likely because you're running a version of Python that Pillow (which pyscreeze depends on) doesn't support currently.) Please install this module to enable the function you tried to call."
     ]
    }
   ],
   "source": [
    "def click(x, y):\n",
    "    win32api.SetCursorPos((x,y))\n",
    "    time.sleep(0.01) # Este delay é necessário para o click funcionar\n",
    "    win32api.mouse_event(win32con.MOUSEEVENTF_LEFTDOWN, 0, 0)\n",
    "    time.sleep(0.01) # Este delay é necessário para o click funcionar\n",
    "    win32api.mouse_event(win32con.MOUSEEVENTF_LEFTUP, 0, 0)\n",
    "    \n",
    "while not keyboard.is_pressed('c'):\n",
    "    if pyautogui.pixel(892, 304)[0] == 0:\n",
    "        click(615, 393)\n",
    "    if pyautogui.pixel(863, 305)[0] == 0:\n",
    "        click(615, 393)\n",
    "    if pyautogui.pixel(767, 521)[0] == 0:\n",
    "        click(615, 393)\n",
    "    if pyautogui.pixel(910, 304)[0] == 0:\n",
    "        click(615, 393)"
   ]
  }
 ],
 "metadata": {
  "kernelspec": {
   "display_name": "Python 3",
   "language": "python",
   "name": "python3"
  },
  "language_info": {
   "codemirror_mode": {
    "name": "ipython",
    "version": 3
   },
   "file_extension": ".py",
   "mimetype": "text/x-python",
   "name": "python",
   "nbconvert_exporter": "python",
   "pygments_lexer": "ipython3",
   "version": "3.12.0"
  }
 },
 "nbformat": 4,
 "nbformat_minor": 2
}
