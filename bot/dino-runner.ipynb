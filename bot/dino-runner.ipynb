{
 "cells": [
  {
   "cell_type": "code",
   "execution_count": null,
   "metadata": {},
   "outputs": [],
   "source": [
    "from pyautogui import *\n",
    "import pyautogui\n",
    "import time\n",
    "import keyboard\n",
    "# import random\n",
    "import win32api, win32con"
   ]
  },
  {
   "cell_type": "code",
   "execution_count": null,
   "metadata": {},
   "outputs": [],
   "source": [
    "## https://trex-runner.com/\n",
    "# Pular: X: -1234 Y: 542 RGB: (83, 83, 83)\n",
    "# Cair: X: -1330 Y: 542 RGB: (83, 83, 83)"
   ]
  },
  {
   "cell_type": "code",
   "execution_count": null,
   "metadata": {},
   "outputs": [],
   "source": [
    "def arrowUp():\n",
    "    win32api.keybd_event(0x26, 0, 0, 0)  # Pressionar a tecla \"seta para cima\"\n",
    "\n",
    "def arrowDown():\n",
    "    win32api.keybd_event(0x28, 0, 0, 0)  # Pressionar a tecla \"seta para baixo\"\n",
    "    time.sleep(0.01) # Tempo pressionado\n",
    "    win32api.keybd_event(0x28, 0, win32con.KEYEVENTF_KEYUP, 0)  # Soltar a tecla \"seta para baixo\"\n",
    "\n",
    "\n",
    "while not keyboard.is_pressed(\"q\"):\n",
    "    if pyautogui.pixel(-1150, 544)[0] == 83:\n",
    "        arrowUp()\n",
    "        win32api.SetCursorPos((-1150, 544))\n",
    "        time.sleep(0.25) # Tempo no ar\n",
    "        arrowDown()"
   ]
  }
 ],
 "metadata": {
  "kernelspec": {
   "display_name": "Python 3",
   "language": "python",
   "name": "python3"
  },
  "language_info": {
   "codemirror_mode": {
    "name": "ipython",
    "version": 3
   },
   "file_extension": ".py",
   "mimetype": "text/x-python",
   "name": "python",
   "nbconvert_exporter": "python",
   "pygments_lexer": "ipython3",
   "version": "3.11.2"
  }
 },
 "nbformat": 4,
 "nbformat_minor": 2
}
