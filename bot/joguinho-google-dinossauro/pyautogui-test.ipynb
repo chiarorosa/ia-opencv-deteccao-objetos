{
 "cells": [
  {
   "cell_type": "code",
   "execution_count": 8,
   "metadata": {},
   "outputs": [
    {
     "name": "stdout",
     "output_type": "stream",
     "text": [
      "Posição do Mouse: (991, 192), RGB: (132, 134, 135)\n",
      "Posição do Mouse: (726, 846), RGB: (56, 177, 229)\n",
      "Posição do Mouse: (726, 846), RGB: (56, 177, 229)\n",
      "Posição do Mouse: (726, 846), RGB: (127, 205, 236)\n",
      "Posição do Mouse: (996, 190), RGB: (66, 69, 75)\n"
     ]
    },
    {
     "ename": "KeyboardInterrupt",
     "evalue": "",
     "output_type": "error",
     "traceback": [
      "\u001b[1;31m---------------------------------------------------------------------------\u001b[0m",
      "\u001b[1;31mKeyboardInterrupt\u001b[0m                         Traceback (most recent call last)",
      "\u001b[1;32md:\\6° Semestre\\Inteligência Artificial\\FIA\\Aula 15\\ia-opencv-deteccao-objetos\\pyautogui-test.ipynb Célula 1\u001b[0m line \u001b[0;36m2\n\u001b[0;32m     <a href='vscode-notebook-cell:/d%3A/6%C2%B0%20Semestre/Intelig%C3%AAncia%20Artificial/FIA/Aula%2015/ia-opencv-deteccao-objetos/pyautogui-test.ipynb#W0sZmlsZQ%3D%3D?line=17'>18</a>\u001b[0m         time\u001b[39m.\u001b[39msleep(\u001b[39m2\u001b[39m)\n\u001b[0;32m     <a href='vscode-notebook-cell:/d%3A/6%C2%B0%20Semestre/Intelig%C3%AAncia%20Artificial/FIA/Aula%2015/ia-opencv-deteccao-objetos/pyautogui-test.ipynb#W0sZmlsZQ%3D%3D?line=19'>20</a>\u001b[0m \u001b[39m# Chama a função para exibir a posição e RGB do mouse\u001b[39;00m\n\u001b[1;32m---> <a href='vscode-notebook-cell:/d%3A/6%C2%B0%20Semestre/Intelig%C3%AAncia%20Artificial/FIA/Aula%2015/ia-opencv-deteccao-objetos/pyautogui-test.ipynb#W0sZmlsZQ%3D%3D?line=20'>21</a>\u001b[0m display_mouse_info()\n",
      "\u001b[1;32md:\\6° Semestre\\Inteligência Artificial\\FIA\\Aula 15\\ia-opencv-deteccao-objetos\\pyautogui-test.ipynb Célula 1\u001b[0m line \u001b[0;36m1\n\u001b[0;32m     <a href='vscode-notebook-cell:/d%3A/6%C2%B0%20Semestre/Intelig%C3%AAncia%20Artificial/FIA/Aula%2015/ia-opencv-deteccao-objetos/pyautogui-test.ipynb#W0sZmlsZQ%3D%3D?line=14'>15</a>\u001b[0m \u001b[39mprint\u001b[39m(\u001b[39mf\u001b[39m\u001b[39m\"\u001b[39m\u001b[39mPosição do Mouse: (\u001b[39m\u001b[39m{\u001b[39;00mmouse_x\u001b[39m}\u001b[39;00m\u001b[39m, \u001b[39m\u001b[39m{\u001b[39;00mmouse_y\u001b[39m}\u001b[39;00m\u001b[39m), RGB: \u001b[39m\u001b[39m{\u001b[39;00mrgb\u001b[39m}\u001b[39;00m\u001b[39m\"\u001b[39m)\n\u001b[0;32m     <a href='vscode-notebook-cell:/d%3A/6%C2%B0%20Semestre/Intelig%C3%AAncia%20Artificial/FIA/Aula%2015/ia-opencv-deteccao-objetos/pyautogui-test.ipynb#W0sZmlsZQ%3D%3D?line=16'>17</a>\u001b[0m \u001b[39m# Adiciona um atraso de 2 segundo\u001b[39;00m\n\u001b[1;32m---> <a href='vscode-notebook-cell:/d%3A/6%C2%B0%20Semestre/Intelig%C3%AAncia%20Artificial/FIA/Aula%2015/ia-opencv-deteccao-objetos/pyautogui-test.ipynb#W0sZmlsZQ%3D%3D?line=17'>18</a>\u001b[0m time\u001b[39m.\u001b[39;49msleep(\u001b[39m2\u001b[39;49m)\n",
      "\u001b[1;31mKeyboardInterrupt\u001b[0m: "
     ]
    }
   ],
   "source": [
    "import pyautogui\n",
    "import keyboard\n",
    "import time\n",
    "\n",
    "# Função para exibir a posição e RGB do mouse\n",
    "def display_mouse_info():\n",
    "    while not keyboard.is_pressed('q'):  # Pressione 'q' para sair do loop\n",
    "        # Obtém a posição atual do mouse\n",
    "        mouse_x, mouse_y = pyautogui.position()\n",
    "\n",
    "        # Obtém o valor RGB do pixel na posição do mouse\n",
    "        rgb = pyautogui.pixel(mouse_x, mouse_y)\n",
    "\n",
    "        # Exibe a posição e o valor RGB\n",
    "        print(f\"Posição do Mouse: ({mouse_x}, {mouse_y}), RGB: {rgb}\")\n",
    "\n",
    "        # Adiciona um atraso de 2 segundo\n",
    "        time.sleep(2)\n",
    "\n",
    "# Chama a função para exibir a posição e RGB do mouse\n",
    "display_mouse_info()"
   ]
  }
 ],
 "metadata": {
  "kernelspec": {
   "display_name": "base",
   "language": "python",
   "name": "python3"
  },
  "language_info": {
   "codemirror_mode": {
    "name": "ipython",
    "version": 3
   },
   "file_extension": ".py",
   "mimetype": "text/x-python",
   "name": "python",
   "nbconvert_exporter": "python",
   "pygments_lexer": "ipython3",
   "version": "3.9.13"
  }
 },
 "nbformat": 4,
 "nbformat_minor": 2
}
